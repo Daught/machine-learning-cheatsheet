{
 "cells": [
  {
   "cell_type": "markdown",
   "metadata": {},
   "source": [
    "It is probabilistic based clustering or kernel density estimation based clusterig. The clusters are formed based on the Gaussian distribution of the centers. For further details and pictorial description, refer https://home.deib.polimi.it/matteucc/Clustering/tutorial_html/mixture.html"
   ]
  },
  {
   "cell_type": "code",
   "execution_count": null,
   "metadata": {},
   "outputs": [],
   "source": [
    "def doGMM(X, nclust=2):\n",
    "    model = GaussianMixture(n_components=nclust,init_params='kmeans')\n",
    "    model.fit(X)\n",
    "    clust_labels3 = model.predict(X)\n",
    "    return (clust_labels3)\n",
    "\n",
    "clust_labels3 = doGMM(wh1,2)\n",
    "gmm = pd.DataFrame(clust_labels3)\n",
    "wh1.insert((wh1.shape[1]),'gmm',gmm)"
   ]
  },
  {
   "cell_type": "code",
   "execution_count": null,
   "metadata": {},
   "outputs": [],
   "source": [
    "#Plotting the cluster obtained using GMM\n",
    "fig = plt.figure()\n",
    "ax = fig.add_subplot(111)\n",
    "scatter = ax.scatter(wh1['Economy..GDP.per.Capita.'],wh1['Trust..Government.Corruption.'],\n",
    "                     c=gmm[0],s=50)\n",
    "ax.set_title('Affinity Clustering')\n",
    "ax.set_xlabel('GDP per Capita')\n",
    "ax.set_ylabel('Corruption')\n",
    "plt.colorbar(scatter)"
   ]
  }
 ],
 "metadata": {
  "language_info": {
   "name": "python"
  }
 },
 "nbformat": 4,
 "nbformat_minor": 2
}
