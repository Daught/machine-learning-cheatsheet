{
 "cells": [
  {
   "cell_type": "code",
   "execution_count": null,
   "metadata": {},
   "outputs": [],
   "source": [
    "# Impute Insulin Resistance with kNN\n",
    "\n",
    "from sklearn.impute import KNNImputer\n",
    "# Replace non-0/1 values with NaN for the InsulinResistance column\n",
    "df['InsulinResistance'] = df['InsulinResistance'].apply(lambda x: x if x in [0, 1] else np.nan)\n",
    "\n",
    "# Initialize KNN Imputer\n",
    "imputer = KNNImputer(n_neighbors=2, weights=\"uniform\")\n",
    "\n",
    "# Fit and transform the data\n",
    "df[['InsulinResistance']] = imputer.fit_transform(df[['InsulinResistance']])\n"
   ]
  }
 ],
 "metadata": {
  "language_info": {
   "name": "python"
  }
 },
 "nbformat": 4,
 "nbformat_minor": 2
}
