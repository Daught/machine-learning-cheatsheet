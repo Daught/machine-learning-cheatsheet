{
 "cells": [
  {
   "cell_type": "code",
   "execution_count": null,
   "metadata": {},
   "outputs": [],
   "source": [
    "from sklearn.impute import SimpleImputer\n",
    "import numpy as np\n",
    "\n",
    "# Assuming X is your data with NaN values\n",
    "imputer = SimpleImputer(missing_values=np.nan, strategy='mean')\n",
    "X_transformed = imputer.fit_transform(training_features)"
   ]
  },
  {
   "cell_type": "code",
   "execution_count": null,
   "metadata": {},
   "outputs": [],
   "source": [
    "# Calculate the mean\n",
    "mean_post_treatment_score = df['Post_Treatment_Score'].mean()\n",
    "\n",
    "# Print the mean\n",
    "print(\"Mean Post Treatment Score:\", mean_post_treatment_score)"
   ]
  }
 ],
 "metadata": {
  "language_info": {
   "name": "python"
  }
 },
 "nbformat": 4,
 "nbformat_minor": 2
}
