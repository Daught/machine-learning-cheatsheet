{
 "cells": [
  {
   "cell_type": "code",
   "execution_count": null,
   "metadata": {},
   "outputs": [],
   "source": [
    "from sklearn.impute import SimpleImputer\n",
    "import numpy as np\n",
    "\n",
    "# Assuming X is your data with NaN values\n",
    "imputer = SimpleImputer(missing_values=np.nan, strategy='mean')\n",
    "X_transformed = imputer.fit_transform(training_features)"
   ]
  },
  {
   "cell_type": "code",
   "execution_count": null,
   "metadata": {},
   "outputs": [],
   "source": [
    "# Calculate the mean\n",
    "mean_post_treatment_score = df['Post_Treatment_Score'].mean()\n",
    "\n",
    "# Print the mean\n",
    "print(\"Mean Post Treatment Score:\", mean_post_treatment_score)"
   ]
  },
  {
   "cell_type": "code",
   "execution_count": null,
   "metadata": {},
   "outputs": [],
   "source": [
    "# Drop values which are mean imputes\n",
    "\n",
    "# Calculate the mean of the 'InsulinResistance' column\n",
    "mean_value = df['GeneticFactor'].mean()\n",
    "\n",
    "# Drop rows where 'InsulinResistance' equals the mean value\n",
    "df_final = df[df['GeneticFactor'] != mean_value]"
   ]
  }
 ],
 "metadata": {
  "language_info": {
   "name": "python"
  }
 },
 "nbformat": 4,
 "nbformat_minor": 2
}
