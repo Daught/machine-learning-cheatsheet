{
 "cells": [
  {
   "cell_type": "code",
   "execution_count": null,
   "metadata": {},
   "outputs": [],
   "source": [
    "from sklearn.neighbors import KNeighborsClassifier\n",
    "# Replace non-0/1 values with NaN for the InsulinResistance column\n",
    "df['InsulinResistance'] = df['InsulinResistance'].apply(lambda x: x if x in [0, 1] else np.nan)\n",
    "\n",
    "# Separate the rows with NaN values in 'InsulinResistance'\n",
    "df_missing = df[df['InsulinResistance'].isna()]\n",
    "df_complete = df.dropna(subset=['InsulinResistance'])\n",
    "\n",
    "# Features and target for KNN\n",
    "X = df_complete.drop(columns='InsulinResistance')\n",
    "y = df_complete['InsulinResistance']\n",
    "\n",
    "# Train the KNN classifier\n",
    "knn = KNeighborsClassifier(n_neighbors=2)\n",
    "knn.fit(X, y)\n",
    "\n",
    "# Predict the missing values\n",
    "df_missing['InsulinResistance'] = knn.predict(df_missing.drop(columns='InsulinResistance'))\n",
    "\n",
    "# Combine the datasets\n",
    "df_combined = pd.concat([df_complete, df_missing]).sort_index()\n",
    "df = df_combined"
   ]
  }
 ],
 "metadata": {
  "language_info": {
   "name": "python"
  }
 },
 "nbformat": 4,
 "nbformat_minor": 2
}
