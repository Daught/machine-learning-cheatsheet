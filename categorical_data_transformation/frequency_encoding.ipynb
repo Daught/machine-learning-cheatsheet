{
 "cells": [
  {
   "cell_type": "code",
   "execution_count": 1,
   "metadata": {},
   "outputs": [],
   "source": [
    "# Import necessary libraries\n",
    "import pandas as pd"
   ]
  },
  {
   "cell_type": "code",
   "execution_count": 3,
   "metadata": {},
   "outputs": [
    {
     "name": "stdout",
     "output_type": "stream",
     "text": [
      "     Patient ID  Age      gender    Ethnicity Socioeconomic Status  \\\n",
      "0             1   56      Female  Ethnicity C                  Low   \n",
      "1             2   69        Male  Ethnicity C                  Low   \n",
      "2             3   46  Non-Binary  Ethnicity D               Medium   \n",
      "3             4   32      Female  Ethnicity A                  Low   \n",
      "4             5   60        Male  Ethnicity A                  Low   \n",
      "..          ...  ...         ...          ...                  ...   \n",
      "995         996   78        Male  Ethnicity A               Medium   \n",
      "996         997   23      Female  Ethnicity C                 High   \n",
      "997         998   35      Female  Ethnicity B                 High   \n",
      "998         999   68      Female  Ethnicity C               Medium   \n",
      "999        1000   22      Female  Ethnicity C               Medium   \n",
      "\n",
      "     Distance to Facility  Previous No-shows Appointment No-show prediction  \\\n",
      "0                    3.13                  1                  No        Yes   \n",
      "1                   10.81                  2                 Yes         No   \n",
      "2                   15.94                  0                 Yes         No   \n",
      "3                   18.91                  0                  No        Yes   \n",
      "4                   15.19                  3                  No         No   \n",
      "..                    ...                ...                 ...        ...   \n",
      "995                 10.12                  0                 Yes         No   \n",
      "996                  3.62                  0                 Yes        Yes   \n",
      "997                  2.54                  0                  No        Yes   \n",
      "998                 16.76                  1                  No        Yes   \n",
      "999                 19.56                  1                 Yes        Yes   \n",
      "\n",
      "     gender_encoded  \n",
      "0               454  \n",
      "1               450  \n",
      "2                96  \n",
      "3               454  \n",
      "4               450  \n",
      "..              ...  \n",
      "995             450  \n",
      "996             454  \n",
      "997             454  \n",
      "998             454  \n",
      "999             454  \n",
      "\n",
      "[1000 rows x 10 columns]\n"
     ]
    }
   ],
   "source": [
    "file_path = 'patient_no_show_dataset_result.csv'\n",
    "df = pd.read_csv(file_path)\n",
    "\n",
    "\n",
    "# Frequency Encoding\n",
    "frequency_encoded = df['gender'].value_counts()\n",
    "df['gender_encoded'] = df['gender'].map(frequency_encoded)\n",
    "print(df)"
   ]
  }
 ],
 "metadata": {
  "kernelspec": {
   "display_name": ".venv",
   "language": "python",
   "name": "python3"
  },
  "language_info": {
   "codemirror_mode": {
    "name": "ipython",
    "version": 3
   },
   "file_extension": ".py",
   "mimetype": "text/x-python",
   "name": "python",
   "nbconvert_exporter": "python",
   "pygments_lexer": "ipython3",
   "version": "3.12.3"
  }
 },
 "nbformat": 4,
 "nbformat_minor": 2
}
