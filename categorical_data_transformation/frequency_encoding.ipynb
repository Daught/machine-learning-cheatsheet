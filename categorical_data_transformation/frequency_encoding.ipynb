{
 "cells": [
  {
   "cell_type": "code",
   "execution_count": 5,
   "metadata": {},
   "outputs": [],
   "source": [
    "# Import necessary libraries\n",
    "import pandas as pd"
   ]
  },
  {
   "cell_type": "code",
   "execution_count": 6,
   "metadata": {},
   "outputs": [],
   "source": [
    "file_path = '../data/patient_no_show_dataset_result.csv'\n",
    "df = pd.read_csv(file_path)"
   ]
  },
  {
   "cell_type": "code",
   "execution_count": 7,
   "metadata": {},
   "outputs": [
    {
     "name": "stdout",
     "output_type": "stream",
     "text": [
      "Patient ID                int64\n",
      "Age                       int64\n",
      "gender                   object\n",
      "Ethnicity                object\n",
      "Socioeconomic Status     object\n",
      "Distance to Facility    float64\n",
      "Previous No-shows         int64\n",
      "Appointment No-show      object\n",
      "prediction               object\n",
      "dtype: object\n"
     ]
    }
   ],
   "source": [
    "print(df.dtypes)"
   ]
  },
  {
   "cell_type": "code",
   "execution_count": 8,
   "metadata": {},
   "outputs": [
    {
     "name": "stdout",
     "output_type": "stream",
     "text": [
      "Patient ID                int64\n",
      "Age                       int64\n",
      "gender                   object\n",
      "Ethnicity                object\n",
      "Socioeconomic Status     object\n",
      "Distance to Facility    float64\n",
      "Previous No-shows         int64\n",
      "Appointment No-show      object\n",
      "prediction               object\n",
      "gender_encoded            int64\n",
      "dtype: object\n"
     ]
    }
   ],
   "source": [
    "# Frequency Encoding\n",
    "frequency_encoded = df['gender'].value_counts()\n",
    "df['gender_encoded'] = df['gender'].map(frequency_encoded)\n",
    "\n",
    "\n",
    "print(df.dtypes)"
   ]
  }
 ],
 "metadata": {
  "kernelspec": {
   "display_name": ".venv",
   "language": "python",
   "name": "python3"
  },
  "language_info": {
   "codemirror_mode": {
    "name": "ipython",
    "version": 3
   },
   "file_extension": ".py",
   "mimetype": "text/x-python",
   "name": "python",
   "nbconvert_exporter": "python",
   "pygments_lexer": "ipython3",
   "version": "3.12.3"
  }
 },
 "nbformat": 4,
 "nbformat_minor": 2
}
