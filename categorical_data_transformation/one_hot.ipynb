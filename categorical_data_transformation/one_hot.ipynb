{
 "cells": [
  {
   "cell_type": "code",
   "execution_count": 19,
   "metadata": {},
   "outputs": [],
   "source": [
    "# Import necessary libraries\n",
    "import pandas as pd"
   ]
  },
  {
   "cell_type": "code",
   "execution_count": 20,
   "metadata": {},
   "outputs": [],
   "source": [
    "file_path = '../data/patient_no_show_dataset_result.csv'\n",
    "df = pd.read_csv(file_path)"
   ]
  },
  {
   "cell_type": "code",
   "execution_count": 21,
   "metadata": {},
   "outputs": [
    {
     "name": "stdout",
     "output_type": "stream",
     "text": [
      "Patient ID                int64\n",
      "Age                       int64\n",
      "gender                   object\n",
      "Ethnicity                object\n",
      "Socioeconomic Status     object\n",
      "Distance to Facility    float64\n",
      "Previous No-shows         int64\n",
      "Appointment No-show      object\n",
      "prediction               object\n",
      "dtype: object\n"
     ]
    }
   ],
   "source": [
    "print(df.dtypes)"
   ]
  },
  {
   "cell_type": "code",
   "execution_count": 22,
   "metadata": {},
   "outputs": [
    {
     "name": "stdout",
     "output_type": "stream",
     "text": [
      "Patient ID                       int64\n",
      "Age                              int64\n",
      "Distance to Facility           float64\n",
      "Previous No-shows                int64\n",
      "gender_Female                     bool\n",
      "gender_Male                       bool\n",
      "gender_Non-Binary                 bool\n",
      "Ethnicity_Ethnicity A             bool\n",
      "Ethnicity_Ethnicity B             bool\n",
      "Ethnicity_Ethnicity C             bool\n",
      "Ethnicity_Ethnicity D             bool\n",
      "Socioeconomic Status_High         bool\n",
      "Socioeconomic Status_Low          bool\n",
      "Socioeconomic Status_Medium       bool\n",
      "Appointment No-show_No            bool\n",
      "Appointment No-show_Yes           bool\n",
      "prediction_No                     bool\n",
      "prediction_Yes                    bool\n",
      "dtype: object\n"
     ]
    }
   ],
   "source": [
    "# One-Hot Encoding\n",
    "one_hot_encoded_df = pd.get_dummies(df, columns=['gender'])\n",
    "one_hot_encoded_df = pd.get_dummies(one_hot_encoded_df, columns=['Ethnicity'])\n",
    "one_hot_encoded_df = pd.get_dummies(one_hot_encoded_df, columns=['Socioeconomic Status'])\n",
    "one_hot_encoded_df = pd.get_dummies(one_hot_encoded_df, columns=['Appointment No-show'])\n",
    "one_hot_encoded_df = pd.get_dummies(one_hot_encoded_df, columns=['prediction'])\n",
    "\n",
    "print(one_hot_encoded_df.dtypes)"
   ]
  }
 ],
 "metadata": {
  "kernelspec": {
   "display_name": ".venv",
   "language": "python",
   "name": "python3"
  },
  "language_info": {
   "codemirror_mode": {
    "name": "ipython",
    "version": 3
   },
   "file_extension": ".py",
   "mimetype": "text/x-python",
   "name": "python",
   "nbconvert_exporter": "python",
   "pygments_lexer": "ipython3",
   "version": "3.12.3"
  }
 },
 "nbformat": 4,
 "nbformat_minor": 2
}
