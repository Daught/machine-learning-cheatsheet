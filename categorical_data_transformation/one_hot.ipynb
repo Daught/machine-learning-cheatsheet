{
 "cells": [
  {
   "cell_type": "code",
   "execution_count": 3,
   "metadata": {},
   "outputs": [],
   "source": [
    "# Import necessary libraries\n",
    "import pandas as pd"
   ]
  },
  {
   "cell_type": "code",
   "execution_count": 4,
   "metadata": {},
   "outputs": [],
   "source": [
    "file_path = 'patient_no_show_dataset_result.csv'\n",
    "df = pd.read_csv(file_path)"
   ]
  },
  {
   "cell_type": "code",
   "execution_count": 6,
   "metadata": {},
   "outputs": [
    {
     "name": "stdout",
     "output_type": "stream",
     "text": [
      "<class 'pandas.core.frame.DataFrame'>\n",
      "RangeIndex: 1000 entries, 0 to 999\n",
      "Data columns (total 9 columns):\n",
      " #   Column                Non-Null Count  Dtype  \n",
      "---  ------                --------------  -----  \n",
      " 0   Patient ID            1000 non-null   int64  \n",
      " 1   Age                   1000 non-null   int64  \n",
      " 2   gender                1000 non-null   object \n",
      " 3   Ethnicity             1000 non-null   object \n",
      " 4   Socioeconomic Status  1000 non-null   object \n",
      " 5   Distance to Facility  1000 non-null   float64\n",
      " 6   Previous No-shows     1000 non-null   int64  \n",
      " 7   Appointment No-show   1000 non-null   object \n",
      " 8   prediction            1000 non-null   object \n",
      "dtypes: float64(1), int64(3), object(5)\n",
      "memory usage: 70.4+ KB\n"
     ]
    }
   ],
   "source": [
    "df.info()"
   ]
  },
  {
   "cell_type": "code",
   "execution_count": 9,
   "metadata": {},
   "outputs": [
    {
     "name": "stdout",
     "output_type": "stream",
     "text": [
      "   Patient ID  Age  Distance to Facility  Previous No-shows  gender_Female  \\\n",
      "0           1   56                  3.13                  1           True   \n",
      "1           2   69                 10.81                  2          False   \n",
      "2           3   46                 15.94                  0          False   \n",
      "3           4   32                 18.91                  0           True   \n",
      "4           5   60                 15.19                  3          False   \n",
      "\n",
      "   gender_Male  gender_Non-Binary  Ethnicity_Ethnicity A  \\\n",
      "0        False              False                  False   \n",
      "1         True              False                  False   \n",
      "2        False               True                  False   \n",
      "3        False              False                   True   \n",
      "4         True              False                   True   \n",
      "\n",
      "   Ethnicity_Ethnicity B  Ethnicity_Ethnicity C  Ethnicity_Ethnicity D  \\\n",
      "0                  False                   True                  False   \n",
      "1                  False                   True                  False   \n",
      "2                  False                  False                   True   \n",
      "3                  False                  False                  False   \n",
      "4                  False                  False                  False   \n",
      "\n",
      "   Socioeconomic Status_High  Socioeconomic Status_Low  \\\n",
      "0                      False                      True   \n",
      "1                      False                      True   \n",
      "2                      False                     False   \n",
      "3                      False                      True   \n",
      "4                      False                      True   \n",
      "\n",
      "   Socioeconomic Status_Medium  Appointment No-show_No  \\\n",
      "0                        False                    True   \n",
      "1                        False                   False   \n",
      "2                         True                   False   \n",
      "3                        False                    True   \n",
      "4                        False                    True   \n",
      "\n",
      "   Appointment No-show_Yes  prediction_No  prediction_Yes  \n",
      "0                    False          False            True  \n",
      "1                     True           True           False  \n",
      "2                     True           True           False  \n",
      "3                    False          False            True  \n",
      "4                    False           True           False  \n"
     ]
    }
   ],
   "source": [
    "# One-Hot Encoding\n",
    "one_hot_encoded_df = pd.get_dummies(df, columns=['gender'])\n",
    "one_hot_encoded_df = pd.get_dummies(one_hot_encoded_df, columns=['Ethnicity'])\n",
    "one_hot_encoded_df = pd.get_dummies(one_hot_encoded_df, columns=['Socioeconomic Status'])\n",
    "one_hot_encoded_df = pd.get_dummies(one_hot_encoded_df, columns=['Appointment No-show'])\n",
    "one_hot_encoded_df = pd.get_dummies(one_hot_encoded_df, columns=['prediction'])\n",
    "\n",
    "print(one_hot_encoded_df.head())"
   ]
  }
 ],
 "metadata": {
  "kernelspec": {
   "display_name": ".venv",
   "language": "python",
   "name": "python3"
  },
  "language_info": {
   "codemirror_mode": {
    "name": "ipython",
    "version": 3
   },
   "file_extension": ".py",
   "mimetype": "text/x-python",
   "name": "python",
   "nbconvert_exporter": "python",
   "pygments_lexer": "ipython3",
   "version": "3.12.3"
  }
 },
 "nbformat": 4,
 "nbformat_minor": 2
}
