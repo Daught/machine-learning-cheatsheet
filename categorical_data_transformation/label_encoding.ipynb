{
 "cells": [
  {
   "cell_type": "code",
   "execution_count": 5,
   "metadata": {},
   "outputs": [],
   "source": [
    "# Import necessary libraries\n",
    "import pandas as pd\n",
    "from sklearn.preprocessing import LabelEncoder"
   ]
  },
  {
   "cell_type": "code",
   "execution_count": 6,
   "metadata": {},
   "outputs": [],
   "source": [
    "file_path = '../data/patient_no_show_dataset_result.csv'\n",
    "df = pd.read_csv(file_path)"
   ]
  },
  {
   "cell_type": "code",
   "execution_count": 7,
   "metadata": {},
   "outputs": [
    {
     "name": "stdout",
     "output_type": "stream",
     "text": [
      "Patient ID                int64\n",
      "Age                       int64\n",
      "gender                   object\n",
      "Ethnicity                object\n",
      "Socioeconomic Status     object\n",
      "Distance to Facility    float64\n",
      "Previous No-shows         int64\n",
      "Appointment No-show      object\n",
      "prediction               object\n",
      "dtype: object\n"
     ]
    }
   ],
   "source": [
    "print(df.dtypes)"
   ]
  },
  {
   "cell_type": "code",
   "execution_count": 8,
   "metadata": {},
   "outputs": [
    {
     "name": "stdout",
     "output_type": "stream",
     "text": [
      "Patient ID                int64\n",
      "Age                       int64\n",
      "gender                   object\n",
      "Ethnicity                object\n",
      "Socioeconomic Status     object\n",
      "Distance to Facility    float64\n",
      "Previous No-shows         int64\n",
      "Appointment No-show      object\n",
      "prediction               object\n",
      "gender_encoding           int64\n",
      "dtype: object\n"
     ]
    }
   ],
   "source": [
    "# Label Encoding\n",
    "label_encoder = LabelEncoder()\n",
    "df['gender_encoding'] = label_encoder.fit_transform(df['gender'])\n",
    "print(df.dtypes)\n",
    "\n",
    "# Looped Label Encoding\n",
    "columns_to_encode = ['gender', 'Ethnicity'] # Adapt\n",
    "for column in columns_to_encode:\n",
    "    df[f'{column}_encoded'] = label_encoder.fit_transform(df[column])\n",
    "df_le = df.drop(columns=columns_to_encode)"
   ]
  },
  {
   "cell_type": "code",
   "execution_count": 9,
   "metadata": {},
   "outputs": [
    {
     "name": "stdout",
     "output_type": "stream",
     "text": [
      "Number of distinct types in Patient ID: 1000\n",
      "Number of distinct types in Age: 63\n",
      "Number of distinct types in Socioeconomic Status: 3\n",
      "Number of distinct types in Distance to Facility: 765\n",
      "Number of distinct types in Previous No-shows: 6\n",
      "Number of distinct types in Appointment No-show: 2\n",
      "Number of distinct types in prediction: 2\n",
      "Number of distinct types in gender_encoding: 3\n",
      "Number of distinct types in gender_encoded: 3\n",
      "Number of distinct types in Ethnicity_encoded: 4\n"
     ]
    }
   ],
   "source": [
    "# Output number of distinct types for each column\n",
    "for column in df_le.columns:\n",
    "    num_distinct_types = df_le[column].nunique()\n",
    "    print(f\"Number of distinct types in {column}: {num_distinct_types}\")"
   ]
  }
 ],
 "metadata": {
  "kernelspec": {
   "display_name": ".venv",
   "language": "python",
   "name": "python3"
  },
  "language_info": {
   "codemirror_mode": {
    "name": "ipython",
    "version": 3
   },
   "file_extension": ".py",
   "mimetype": "text/x-python",
   "name": "python",
   "nbconvert_exporter": "python",
   "pygments_lexer": "ipython3",
   "version": "3.12.3"
  }
 },
 "nbformat": 4,
 "nbformat_minor": 2
}
