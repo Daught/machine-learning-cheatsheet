{
 "cells": [
  {
   "cell_type": "code",
   "execution_count": 3,
   "metadata": {},
   "outputs": [],
   "source": [
    "import numpy as np\n",
    "import pandas as pd\n",
    "from sklearn.ensemble import ExtraTreesRegressor\n",
    "from sklearn.model_selection import train_test_split\n",
    "from sklearn.preprocessing import LabelEncoder"
   ]
  },
  {
   "cell_type": "code",
   "execution_count": 6,
   "metadata": {},
   "outputs": [],
   "source": [
    "# NOTE: Make sure that the outcome column is labeled 'target' in the data file\n",
    "df = pd.read_csv('../data/patient_no_show_dataset.csv', sep=',')"
   ]
  },
  {
   "cell_type": "code",
   "execution_count": 7,
   "metadata": {},
   "outputs": [],
   "source": [
    "# Label encoding\n",
    "label_encoder = LabelEncoder()\n",
    "df_le = df\n",
    "\n",
    "columns_to_encode = ['gender', 'Ethnicity', 'Socioeconomic Status', 'AppointmentNoshow']\n",
    "for column in columns_to_encode:\n",
    "    df_le[f'{column}_encoded'] = label_encoder.fit_transform(df_le[column])\n",
    "df_le = df_le.drop(columns=columns_to_encode)"
   ]
  },
  {
   "cell_type": "code",
   "execution_count": 10,
   "metadata": {},
   "outputs": [
    {
     "name": "stdout",
     "output_type": "stream",
     "text": [
      "[0.65573471 0.5781003  0.65599025 0.49383238 0.68244252 0.57829771\n",
      " 0.64174346 0.69579104 0.55614603 0.51865356 0.54641168 0.49258394\n",
      " 0.66487735 0.55757178 0.64245824 0.56033376 0.51987    0.67971832\n",
      " 0.71582723 0.67890015 0.65401435 0.55449487 0.57182884 0.70517247\n",
      " 0.76792576 0.62165903 0.43389316 0.63427503 0.58009091 0.59363358\n",
      " 0.54879265 0.61077959 0.63214404 0.67048007 0.61027745 0.54424295\n",
      " 0.59916481 0.81773285 0.53763845 0.52521832 0.55442025 0.58189531\n",
      " 0.58025024 0.62844225 0.57409862 0.63726609 0.53514481 0.60956404\n",
      " 0.61937919 0.50611215 0.58625682 0.6010608  0.54232188 0.57863931\n",
      " 0.53102738 0.60601611 0.57005524 0.5857144  0.57859211 0.66048105\n",
      " 0.55583912 0.50564021 0.68964051 0.62293501 0.55536308 0.55047463\n",
      " 0.6354658  0.57266977 0.63637631 0.57886541 0.46366046 0.70537826\n",
      " 0.51253659 0.571201   0.4564493  0.75182246 0.62537035 0.5421474\n",
      " 0.58521187 0.49684494 0.57665193 0.59671636 0.59848403 0.49713512\n",
      " 0.54289202 0.68057776 0.63956798 0.6263986  0.68760443 0.48782805\n",
      " 0.56415613 0.57967786 0.52049571 0.71695108 0.57189337 0.656648\n",
      " 0.51747135 0.63201802 0.70078345 0.5940822  0.60657952 0.54287659\n",
      " 0.66833597 0.70687642 0.72232877 0.75013349 0.58834771 0.47336553\n",
      " 0.62379974 0.58504734 0.5927622  0.64610225 0.5289759  0.54596496\n",
      " 0.53369918 0.6258726  0.55817491 0.60936184 0.6136138  0.48495238\n",
      " 0.52939213 0.65872028 0.57918452 0.55339156 0.57939749 0.52199774\n",
      " 0.59000246 0.59613507 0.60395295 0.48740137 0.50936606 0.72689535\n",
      " 0.62868756 0.45886892 0.54714925 0.46697146 0.59708785 0.75133292\n",
      " 0.59183211 0.44469785 0.61376156 0.49855589 0.50662955 0.62513923\n",
      " 0.58108573 0.64548095 0.47286039 0.50455111 0.55914772 0.5914695\n",
      " 0.5489414  0.65509744 0.64655148 0.48252395 0.61210378 0.64152984\n",
      " 0.46240773 0.50096205 0.50683725 0.55091971 0.81261263 0.59899409\n",
      " 0.56999221 0.55334128 0.76297169 0.56753189 0.61717457 0.61476103\n",
      " 0.55609598 0.6508624  0.54448018 0.63519245 0.44229509 0.53370128\n",
      " 0.56877422 0.6434622  0.68442375 0.80283363 0.64211885 0.54985247\n",
      " 0.77573228 0.58031875 0.54946928 0.6500834  0.62654021 0.582416\n",
      " 0.60898492 0.55327576 0.67636503 0.51483979 0.54268393 0.5750937\n",
      " 0.64895575 0.54712169 0.71518915 0.60784153 0.46177728 0.51207973\n",
      " 0.61732429 0.51950554 0.66774767 0.60466247 0.56670392 0.54071393\n",
      " 0.61963013 0.74046839 0.63260951 0.57048678 0.61457604 0.61066962\n",
      " 0.70884885 0.69307042 0.49509825 0.6293496  0.63144527 0.5990163\n",
      " 0.61619404 0.57199088 0.53052368 0.68472519 0.54507097 0.65585743\n",
      " 0.54119446 0.67707666 0.62054215 0.53033393 0.60965789 0.67200753\n",
      " 0.55496261 0.53195924 0.53179461 0.49767411 0.51148794 0.77684418\n",
      " 0.51626366 0.54718004 0.734752   0.50392928 0.66077771 0.62139573\n",
      " 0.58147927 0.63901096 0.57101913 0.67616194 0.57848761 0.53725671\n",
      " 0.59103585 0.49467932 0.62707373 0.660037  ]\n"
     ]
    }
   ],
   "source": [
    "features = df_le.drop('AppointmentNoshow_encoded', axis=1)\n",
    "training_features, testing_features, training_target, testing_target = \\\n",
    "            train_test_split(features, df_le['AppointmentNoshow_encoded'], random_state=42)\n",
    "\n",
    "# Average CV score on the training set was: -0.23993073836145662\n",
    "exported_pipeline = ExtraTreesRegressor(bootstrap=True, max_features=0.8500000000000001, min_samples_leaf=10, min_samples_split=5, n_estimators=100)\n",
    "# Fix random state in exported estimator\n",
    "if hasattr(exported_pipeline, 'random_state'):\n",
    "    setattr(exported_pipeline, 'random_state', 42)\n",
    "\n",
    "exported_pipeline.fit(training_features, training_target)\n",
    "results = exported_pipeline.predict(testing_features)\n",
    "\n",
    "print(results)"
   ]
  }
 ],
 "metadata": {
  "kernelspec": {
   "display_name": ".venv",
   "language": "python",
   "name": "python3"
  },
  "language_info": {
   "codemirror_mode": {
    "name": "ipython",
    "version": 3
   },
   "file_extension": ".py",
   "mimetype": "text/x-python",
   "name": "python",
   "nbconvert_exporter": "python",
   "pygments_lexer": "ipython3",
   "version": "3.12.3"
  }
 },
 "nbformat": 4,
 "nbformat_minor": 2
}
