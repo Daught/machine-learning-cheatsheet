{
 "cells": [
  {
   "cell_type": "code",
   "execution_count": 28,
   "metadata": {},
   "outputs": [],
   "source": [
    "from tpot import TPOTRegressor\n",
    "from tpot import TPOTClassifier\n",
    "import pandas as pd\n",
    "from sklearn.model_selection import train_test_split\n",
    "from sklearn.preprocessing import LabelEncoder"
   ]
  },
  {
   "cell_type": "code",
   "execution_count": 22,
   "metadata": {},
   "outputs": [],
   "source": [
    "# Load the data file\n",
    "file_path = '../data/patient_no_show_dataset.csv'\n",
    "df = pd.read_csv(file_path)"
   ]
  },
  {
   "cell_type": "code",
   "execution_count": 23,
   "metadata": {},
   "outputs": [],
   "source": [
    "# Label encoding\n",
    "label_encoder = LabelEncoder()\n",
    "df_le = df\n",
    "\n",
    "columns_to_encode = ['gender', 'Ethnicity', 'Socioeconomic Status', 'AppointmentNoshow']\n",
    "for column in columns_to_encode:\n",
    "    df_le[f'{column}_encoded'] = label_encoder.fit_transform(df_le[column])\n",
    "df_le = df_le.drop(columns=columns_to_encode)"
   ]
  },
  {
   "cell_type": "code",
   "execution_count": 24,
   "metadata": {},
   "outputs": [
    {
     "name": "stdout",
     "output_type": "stream",
     "text": [
      "Patient ID                        int64\n",
      "Age                               int64\n",
      "Distance to Facility            float64\n",
      "Previous No-shows                 int64\n",
      "gender_encoded                    int64\n",
      "Ethnicity_encoded                 int64\n",
      "Socioeconomic Status_encoded      int64\n",
      "AppointmentNoshow_encoded         int64\n",
      "dtype: object\n"
     ]
    }
   ],
   "source": [
    "print(df_le.dtypes)"
   ]
  },
  {
   "cell_type": "code",
   "execution_count": 25,
   "metadata": {},
   "outputs": [],
   "source": [
    "X = df_le.drop('AppointmentNoshow_encoded', axis=1)\n",
    "y = df_le.AppointmentNoshow_encoded\n",
    "X_train, X_test, y_train, y_test = train_test_split(X, y, train_size=0.75, test_size=0.25, random_state=42)"
   ]
  },
  {
   "cell_type": "code",
   "execution_count": 29,
   "metadata": {},
   "outputs": [
    {
     "name": "stdout",
     "output_type": "stream",
     "text": [
      "                                                                             \n",
      "Generation 1 - Current best internal CV score: 0.5933333333333334\n",
      "                                                                              \n",
      "Generation 2 - Current best internal CV score: 0.6\n",
      "                                                                              \n",
      "Generation 3 - Current best internal CV score: 0.6026666666666667\n",
      "                                                                              \n",
      "Generation 4 - Current best internal CV score: 0.6026666666666667\n",
      "                                                                              \n",
      "Generation 5 - Current best internal CV score: 0.6026666666666667\n",
      "                                                                              \n",
      "Best pipeline: ExtraTreesClassifier(input_matrix, bootstrap=False, criterion=entropy, max_features=0.35000000000000003, min_samples_leaf=5, min_samples_split=14, n_estimators=100)\n",
      "0.588\n"
     ]
    }
   ],
   "source": [
    "# Initialize TPOTClassifier\n",
    "tpot = TPOTClassifier(generations=5, population_size=50, verbosity=2, random_state=42)\n",
    "tpot.fit(X_train, y_train)\n",
    "print(tpot.score(X_test, y_test))\n",
    "tpot.export('tpot_patient_no_show_pipeline_classifier.ipynb')"
   ]
  },
  {
   "cell_type": "code",
   "execution_count": 26,
   "metadata": {},
   "outputs": [
    {
     "name": "stdout",
     "output_type": "stream",
     "text": [
      "                                                                              \n",
      "Generation 1 - Current best internal CV score: -0.2420068337964348\n",
      "                                                                              \n",
      "Generation 2 - Current best internal CV score: -0.2405730695909094\n",
      "                                                                              \n",
      "Generation 3 - Current best internal CV score: -0.24038339906887032\n",
      "                                                                              \n",
      "Generation 4 - Current best internal CV score: -0.23993073836145662\n",
      "                                                                              \n",
      "Generation 5 - Current best internal CV score: -0.23993073836145662\n",
      "                                                                              \n",
      "Best pipeline: ExtraTreesRegressor(input_matrix, bootstrap=True, max_features=0.8500000000000001, min_samples_leaf=10, min_samples_split=5, n_estimators=100)\n",
      "-0.24139291746889552\n"
     ]
    }
   ],
   "source": [
    "\n",
    "# Initialize TPOTRegressor\n",
    "tpot = TPOTRegressor(generations=5, population_size=50, verbosity=2, random_state=42)\n",
    "\n",
    "# Fit TPOTRegressor on the training data\n",
    "tpot.fit(X_train, y_train)\n",
    "\n",
    "# Evaluate the best pipeline on the test data\n",
    "print(tpot.score(X_test, y_test))\n",
    "\n",
    "# Export the optimized pipeline as a Python script\n",
    "tpot.export('tpot_patient_no_show_pipeline_regression.ipynb')"
   ]
  }
 ],
 "metadata": {
  "kernelspec": {
   "display_name": ".venv",
   "language": "python",
   "name": "python3"
  },
  "language_info": {
   "codemirror_mode": {
    "name": "ipython",
    "version": 3
   },
   "file_extension": ".py",
   "mimetype": "text/x-python",
   "name": "python",
   "nbconvert_exporter": "python",
   "pygments_lexer": "ipython3",
   "version": "3.12.3"
  }
 },
 "nbformat": 4,
 "nbformat_minor": 2
}
