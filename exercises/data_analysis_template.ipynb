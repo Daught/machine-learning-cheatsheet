{
 "cells": [
  {
   "cell_type": "markdown",
   "metadata": {},
   "source": [
    "# Human Machine Interaction and Bias Mitigation\n",
    "### Predicting Diabetes Insipidus using dedicated Biomarkers\n",
    "\n",
    "Diabetes insipidus (DI) is a rare condition characterized by an imbalance in water regulation, leading to excessive urination and intense thirst. Unlike diabetes mellitus, DI is not related to blood sugar levels but rather to a deficiency in the hormone vasopressin (antidiuretic hormone, ADH) or the kidneys' response to it. There are two primary types of DI: central and nephrogenic. \n",
    "\n",
    "- **Central diabetes insipidus**\n",
    "    - occurs due to insufficient production or release of ADH from the hypothalamus or pituitary gland, often resulting from injury, surgery, or genetic factors. \n",
    "- **Nephrogenic diabetes insipidus**\n",
    "    - on the other hand, arises when the kidneys fail to respond adequately to ADH, which can be caused by genetic mutations, certain medications, or chronic kidney disorders. \n",
    "    \n",
    "Understanding these variations is crucial for accurate diagnosis and effective treatment, as the underlying causes and management strategies differ significantly between the two types."
   ]
  },
  {
   "cell_type": "code",
   "execution_count": 607,
   "metadata": {},
   "outputs": [],
   "source": [
    "import pandas as pd\n",
    "import seaborn as sns\n",
    "import numpy as np\n",
    "import matplotlib.pyplot as plt"
   ]
  },
  {
   "cell_type": "code",
   "execution_count": 608,
   "metadata": {},
   "outputs": [],
   "source": [
    "# Load the data file\n",
    "file_path = '../data/diabetes_study_final_data.csv'\n",
    "df = pd.read_csv(file_path, delimiter=',')"
   ]
  },
  {
   "cell_type": "markdown",
   "metadata": {},
   "source": [
    "# Exploratory data analysis"
   ]
  },
  {
   "cell_type": "code",
   "execution_count": 609,
   "metadata": {},
   "outputs": [
    {
     "data": {
      "text/html": [
       "<div>\n",
       "<style scoped>\n",
       "    .dataframe tbody tr th:only-of-type {\n",
       "        vertical-align: middle;\n",
       "    }\n",
       "\n",
       "    .dataframe tbody tr th {\n",
       "        vertical-align: top;\n",
       "    }\n",
       "\n",
       "    .dataframe thead th {\n",
       "        text-align: right;\n",
       "    }\n",
       "</style>\n",
       "<table border=\"1\" class=\"dataframe\">\n",
       "  <thead>\n",
       "    <tr style=\"text-align: right;\">\n",
       "      <th></th>\n",
       "      <th>Age</th>\n",
       "      <th>Gender</th>\n",
       "      <th>Ethnicity</th>\n",
       "      <th>BMI</th>\n",
       "      <th>BloodSugarLevel</th>\n",
       "      <th>InsulinResistance</th>\n",
       "      <th>GeneticFactor</th>\n",
       "    </tr>\n",
       "  </thead>\n",
       "  <tbody>\n",
       "    <tr>\n",
       "      <th>0</th>\n",
       "      <td>56</td>\n",
       "      <td>0</td>\n",
       "      <td>1</td>\n",
       "      <td>18.303039</td>\n",
       "      <td>91.118631</td>\n",
       "      <td>0.000000</td>\n",
       "      <td>0.0</td>\n",
       "    </tr>\n",
       "    <tr>\n",
       "      <th>1</th>\n",
       "      <td>69</td>\n",
       "      <td>0</td>\n",
       "      <td>4</td>\n",
       "      <td>28.052368</td>\n",
       "      <td>108.830756</td>\n",
       "      <td>0.301111</td>\n",
       "      <td>0.0</td>\n",
       "    </tr>\n",
       "    <tr>\n",
       "      <th>2</th>\n",
       "      <td>46</td>\n",
       "      <td>1</td>\n",
       "      <td>4</td>\n",
       "      <td>30.947376</td>\n",
       "      <td>91.569805</td>\n",
       "      <td>0.000000</td>\n",
       "      <td>0.0</td>\n",
       "    </tr>\n",
       "    <tr>\n",
       "      <th>3</th>\n",
       "      <td>32</td>\n",
       "      <td>1</td>\n",
       "      <td>0</td>\n",
       "      <td>26.874690</td>\n",
       "      <td>98.878487</td>\n",
       "      <td>0.301111</td>\n",
       "      <td>0.0</td>\n",
       "    </tr>\n",
       "    <tr>\n",
       "      <th>4</th>\n",
       "      <td>60</td>\n",
       "      <td>1</td>\n",
       "      <td>3</td>\n",
       "      <td>28.052368</td>\n",
       "      <td>90.062769</td>\n",
       "      <td>0.000000</td>\n",
       "      <td>0.0</td>\n",
       "    </tr>\n",
       "    <tr>\n",
       "      <th>...</th>\n",
       "      <td>...</td>\n",
       "      <td>...</td>\n",
       "      <td>...</td>\n",
       "      <td>...</td>\n",
       "      <td>...</td>\n",
       "      <td>...</td>\n",
       "      <td>...</td>\n",
       "    </tr>\n",
       "    <tr>\n",
       "      <th>995</th>\n",
       "      <td>78</td>\n",
       "      <td>1</td>\n",
       "      <td>3</td>\n",
       "      <td>28.013502</td>\n",
       "      <td>106.846173</td>\n",
       "      <td>0.000000</td>\n",
       "      <td>0.0</td>\n",
       "    </tr>\n",
       "    <tr>\n",
       "      <th>996</th>\n",
       "      <td>23</td>\n",
       "      <td>0</td>\n",
       "      <td>1</td>\n",
       "      <td>29.311285</td>\n",
       "      <td>103.303079</td>\n",
       "      <td>0.000000</td>\n",
       "      <td>0.0</td>\n",
       "    </tr>\n",
       "    <tr>\n",
       "      <th>997</th>\n",
       "      <td>35</td>\n",
       "      <td>1</td>\n",
       "      <td>3</td>\n",
       "      <td>31.697081</td>\n",
       "      <td>85.511755</td>\n",
       "      <td>1.000000</td>\n",
       "      <td>0.0</td>\n",
       "    </tr>\n",
       "    <tr>\n",
       "      <th>998</th>\n",
       "      <td>68</td>\n",
       "      <td>0</td>\n",
       "      <td>0</td>\n",
       "      <td>23.944416</td>\n",
       "      <td>108.491801</td>\n",
       "      <td>1.000000</td>\n",
       "      <td>0.0</td>\n",
       "    </tr>\n",
       "    <tr>\n",
       "      <th>999</th>\n",
       "      <td>22</td>\n",
       "      <td>1</td>\n",
       "      <td>1</td>\n",
       "      <td>28.052368</td>\n",
       "      <td>93.648540</td>\n",
       "      <td>1.000000</td>\n",
       "      <td>0.0</td>\n",
       "    </tr>\n",
       "  </tbody>\n",
       "</table>\n",
       "<p>1000 rows × 7 columns</p>\n",
       "</div>"
      ],
      "text/plain": [
       "     Age  Gender  Ethnicity        BMI  BloodSugarLevel  InsulinResistance  \\\n",
       "0     56       0          1  18.303039        91.118631           0.000000   \n",
       "1     69       0          4  28.052368       108.830756           0.301111   \n",
       "2     46       1          4  30.947376        91.569805           0.000000   \n",
       "3     32       1          0  26.874690        98.878487           0.301111   \n",
       "4     60       1          3  28.052368        90.062769           0.000000   \n",
       "..   ...     ...        ...        ...              ...                ...   \n",
       "995   78       1          3  28.013502       106.846173           0.000000   \n",
       "996   23       0          1  29.311285       103.303079           0.000000   \n",
       "997   35       1          3  31.697081        85.511755           1.000000   \n",
       "998   68       0          0  23.944416       108.491801           1.000000   \n",
       "999   22       1          1  28.052368        93.648540           1.000000   \n",
       "\n",
       "     GeneticFactor  \n",
       "0              0.0  \n",
       "1              0.0  \n",
       "2              0.0  \n",
       "3              0.0  \n",
       "4              0.0  \n",
       "..             ...  \n",
       "995            0.0  \n",
       "996            0.0  \n",
       "997            0.0  \n",
       "998            0.0  \n",
       "999            0.0  \n",
       "\n",
       "[1000 rows x 7 columns]"
      ]
     },
     "execution_count": 609,
     "metadata": {},
     "output_type": "execute_result"
    }
   ],
   "source": [
    "# Display the first few rows of the dataframe\n",
    "df"
   ]
  },
  {
   "cell_type": "code",
   "execution_count": 610,
   "metadata": {},
   "outputs": [
    {
     "data": {
      "text/plain": [
       "(1000, 7)"
      ]
     },
     "execution_count": 610,
     "metadata": {},
     "output_type": "execute_result"
    }
   ],
   "source": [
    "# check the dimensions of the data with df.shape attribute.\n",
    "df.shape"
   ]
  },
  {
   "cell_type": "markdown",
   "metadata": {},
   "source": [
    "We can view the top five and bottom five rows of the dataset with df.head() and df.tail() methods respectively."
   ]
  },
  {
   "cell_type": "code",
   "execution_count": 611,
   "metadata": {},
   "outputs": [
    {
     "data": {
      "text/html": [
       "<div>\n",
       "<style scoped>\n",
       "    .dataframe tbody tr th:only-of-type {\n",
       "        vertical-align: middle;\n",
       "    }\n",
       "\n",
       "    .dataframe tbody tr th {\n",
       "        vertical-align: top;\n",
       "    }\n",
       "\n",
       "    .dataframe thead th {\n",
       "        text-align: right;\n",
       "    }\n",
       "</style>\n",
       "<table border=\"1\" class=\"dataframe\">\n",
       "  <thead>\n",
       "    <tr style=\"text-align: right;\">\n",
       "      <th></th>\n",
       "      <th>Age</th>\n",
       "      <th>Gender</th>\n",
       "      <th>Ethnicity</th>\n",
       "      <th>BMI</th>\n",
       "      <th>BloodSugarLevel</th>\n",
       "      <th>InsulinResistance</th>\n",
       "      <th>GeneticFactor</th>\n",
       "    </tr>\n",
       "  </thead>\n",
       "  <tbody>\n",
       "    <tr>\n",
       "      <th>0</th>\n",
       "      <td>56</td>\n",
       "      <td>0</td>\n",
       "      <td>1</td>\n",
       "      <td>18.303039</td>\n",
       "      <td>91.118631</td>\n",
       "      <td>0.000000</td>\n",
       "      <td>0.0</td>\n",
       "    </tr>\n",
       "    <tr>\n",
       "      <th>1</th>\n",
       "      <td>69</td>\n",
       "      <td>0</td>\n",
       "      <td>4</td>\n",
       "      <td>28.052368</td>\n",
       "      <td>108.830756</td>\n",
       "      <td>0.301111</td>\n",
       "      <td>0.0</td>\n",
       "    </tr>\n",
       "    <tr>\n",
       "      <th>2</th>\n",
       "      <td>46</td>\n",
       "      <td>1</td>\n",
       "      <td>4</td>\n",
       "      <td>30.947376</td>\n",
       "      <td>91.569805</td>\n",
       "      <td>0.000000</td>\n",
       "      <td>0.0</td>\n",
       "    </tr>\n",
       "    <tr>\n",
       "      <th>3</th>\n",
       "      <td>32</td>\n",
       "      <td>1</td>\n",
       "      <td>0</td>\n",
       "      <td>26.874690</td>\n",
       "      <td>98.878487</td>\n",
       "      <td>0.301111</td>\n",
       "      <td>0.0</td>\n",
       "    </tr>\n",
       "    <tr>\n",
       "      <th>4</th>\n",
       "      <td>60</td>\n",
       "      <td>1</td>\n",
       "      <td>3</td>\n",
       "      <td>28.052368</td>\n",
       "      <td>90.062769</td>\n",
       "      <td>0.000000</td>\n",
       "      <td>0.0</td>\n",
       "    </tr>\n",
       "  </tbody>\n",
       "</table>\n",
       "</div>"
      ],
      "text/plain": [
       "   Age  Gender  Ethnicity        BMI  BloodSugarLevel  InsulinResistance  \\\n",
       "0   56       0          1  18.303039        91.118631           0.000000   \n",
       "1   69       0          4  28.052368       108.830756           0.301111   \n",
       "2   46       1          4  30.947376        91.569805           0.000000   \n",
       "3   32       1          0  26.874690        98.878487           0.301111   \n",
       "4   60       1          3  28.052368        90.062769           0.000000   \n",
       "\n",
       "   GeneticFactor  \n",
       "0            0.0  \n",
       "1            0.0  \n",
       "2            0.0  \n",
       "3            0.0  \n",
       "4            0.0  "
      ]
     },
     "execution_count": 611,
     "metadata": {},
     "output_type": "execute_result"
    }
   ],
   "source": [
    "df.head()"
   ]
  },
  {
   "cell_type": "code",
   "execution_count": 612,
   "metadata": {},
   "outputs": [
    {
     "data": {
      "text/html": [
       "<div>\n",
       "<style scoped>\n",
       "    .dataframe tbody tr th:only-of-type {\n",
       "        vertical-align: middle;\n",
       "    }\n",
       "\n",
       "    .dataframe tbody tr th {\n",
       "        vertical-align: top;\n",
       "    }\n",
       "\n",
       "    .dataframe thead th {\n",
       "        text-align: right;\n",
       "    }\n",
       "</style>\n",
       "<table border=\"1\" class=\"dataframe\">\n",
       "  <thead>\n",
       "    <tr style=\"text-align: right;\">\n",
       "      <th></th>\n",
       "      <th>Age</th>\n",
       "      <th>Gender</th>\n",
       "      <th>Ethnicity</th>\n",
       "      <th>BMI</th>\n",
       "      <th>BloodSugarLevel</th>\n",
       "      <th>InsulinResistance</th>\n",
       "      <th>GeneticFactor</th>\n",
       "    </tr>\n",
       "  </thead>\n",
       "  <tbody>\n",
       "    <tr>\n",
       "      <th>995</th>\n",
       "      <td>78</td>\n",
       "      <td>1</td>\n",
       "      <td>3</td>\n",
       "      <td>28.013502</td>\n",
       "      <td>106.846173</td>\n",
       "      <td>0.0</td>\n",
       "      <td>0.0</td>\n",
       "    </tr>\n",
       "    <tr>\n",
       "      <th>996</th>\n",
       "      <td>23</td>\n",
       "      <td>0</td>\n",
       "      <td>1</td>\n",
       "      <td>29.311285</td>\n",
       "      <td>103.303079</td>\n",
       "      <td>0.0</td>\n",
       "      <td>0.0</td>\n",
       "    </tr>\n",
       "    <tr>\n",
       "      <th>997</th>\n",
       "      <td>35</td>\n",
       "      <td>1</td>\n",
       "      <td>3</td>\n",
       "      <td>31.697081</td>\n",
       "      <td>85.511755</td>\n",
       "      <td>1.0</td>\n",
       "      <td>0.0</td>\n",
       "    </tr>\n",
       "    <tr>\n",
       "      <th>998</th>\n",
       "      <td>68</td>\n",
       "      <td>0</td>\n",
       "      <td>0</td>\n",
       "      <td>23.944416</td>\n",
       "      <td>108.491801</td>\n",
       "      <td>1.0</td>\n",
       "      <td>0.0</td>\n",
       "    </tr>\n",
       "    <tr>\n",
       "      <th>999</th>\n",
       "      <td>22</td>\n",
       "      <td>1</td>\n",
       "      <td>1</td>\n",
       "      <td>28.052368</td>\n",
       "      <td>93.648540</td>\n",
       "      <td>1.0</td>\n",
       "      <td>0.0</td>\n",
       "    </tr>\n",
       "  </tbody>\n",
       "</table>\n",
       "</div>"
      ],
      "text/plain": [
       "     Age  Gender  Ethnicity        BMI  BloodSugarLevel  InsulinResistance  \\\n",
       "995   78       1          3  28.013502       106.846173                0.0   \n",
       "996   23       0          1  29.311285       103.303079                0.0   \n",
       "997   35       1          3  31.697081        85.511755                1.0   \n",
       "998   68       0          0  23.944416       108.491801                1.0   \n",
       "999   22       1          1  28.052368        93.648540                1.0   \n",
       "\n",
       "     GeneticFactor  \n",
       "995            0.0  \n",
       "996            0.0  \n",
       "997            0.0  \n",
       "998            0.0  \n",
       "999            0.0  "
      ]
     },
     "execution_count": 612,
     "metadata": {},
     "output_type": "execute_result"
    }
   ],
   "source": [
    "df.tail()"
   ]
  },
  {
   "cell_type": "markdown",
   "metadata": {},
   "source": [
    "**Interpretation**\n",
    "\n",
    "We can see that there are lot of discrepancies in the dataset.\n",
    "\n",
    "For example, the age and sex columns are combined together with an underscore. There should be two separate columns of age and sex.\n",
    "\n",
    "The height and weight columns contain missing values. Some values are coded as \"xx\", \"?\", \"0\" and negative values. They are all invalid values as height and weight must be positive real numbers.\n",
    "\n",
    "The three columns spend_A, spend_B and spend_C denote spending at three supermarkets A,B and C. These columns must contain positive real numbers. The missing values in these columns denote nothing spend in that market. The negative value and the value coded as \"xx\" should be addressed properly."
   ]
  },
  {
   "cell_type": "code",
   "execution_count": 613,
   "metadata": {},
   "outputs": [
    {
     "name": "stdout",
     "output_type": "stream",
     "text": [
      "<class 'pandas.core.frame.DataFrame'>\n",
      "RangeIndex: 1000 entries, 0 to 999\n",
      "Data columns (total 7 columns):\n",
      " #   Column             Non-Null Count  Dtype  \n",
      "---  ------             --------------  -----  \n",
      " 0   Age                1000 non-null   int64  \n",
      " 1   Gender             1000 non-null   int64  \n",
      " 2   Ethnicity          1000 non-null   int64  \n",
      " 3   BMI                1000 non-null   float64\n",
      " 4   BloodSugarLevel    1000 non-null   float64\n",
      " 5   InsulinResistance  1000 non-null   float64\n",
      " 6   GeneticFactor      1000 non-null   float64\n",
      "dtypes: float64(4), int64(3)\n",
      "memory usage: 54.8 KB\n"
     ]
    }
   ],
   "source": [
    "df.info()"
   ]
  },
  {
   "cell_type": "markdown",
   "metadata": {},
   "source": [
    "**Interpretation**\n",
    "\n",
    "We can see that this method prints information of all columns. Several columns contain missing values. We have seen that columns contain missing and invalid values are coded differently. So, we need to explore this issue further.\n",
    "\n",
    "\n",
    "|Feature|Description|\n",
    "|--|--|\n",
    "|polydipsia|Binary (0: No, 1: Yes)|\n",
    "|polyuria|Binary (0: No, 1: Yes)|\n",
    "|nocturia|Binary (0: No, 1: Yes)|\n",
    "|serum_sodium|Continuous (mEq/L)|\n",
    "|serum_osmolality|Continuous (mOsm/kg)|\n",
    "|urine_osmolality|Continuous (mOsm/kg)|\n",
    "|urine_specific_gravity|Continuous|\n",
    "|serum_adh|Continuous (pg/mL)|\n",
    "|plasma_copeptin|Continuous (pmol/L)|\n",
    "|family_history|Binary (0: No, 1: Yes)|\n",
    "|mri_abnormalities|Binary (0: No, 1: Yes)|\n",
    "|avp_gene_mutation|Binary (0: No, 1: Yes)|\n",
    "|aqp2_gene_mutation|Binary (0: No, 1: Yes)|\n",
    "|avpr2_gene_mutation|Binary (0: No, 1: Yes)|\n",
    "|bmi|Continuous (kg/m²)|\n",
    "|blood_pressure|Continuous (mmHg)|\n",
    "|age|Continuous (years)|\n",
    "|sex|Categorical (Male, Female)|\n",
    "|electrolyte_levels|Continuous (various ions, e.g., K⁺, Ca²⁺)|"
   ]
  },
  {
   "cell_type": "markdown",
   "metadata": {},
   "source": [
    "### Handling invalid values\n",
    "\n",
    "view the summary statistics of numerical columns with df.describe() method. It enable us to detect outliers in the data which require further investigation.\n",
    "\n"
   ]
  },
  {
   "cell_type": "code",
   "execution_count": 614,
   "metadata": {},
   "outputs": [
    {
     "data": {
      "text/html": [
       "<div>\n",
       "<style scoped>\n",
       "    .dataframe tbody tr th:only-of-type {\n",
       "        vertical-align: middle;\n",
       "    }\n",
       "\n",
       "    .dataframe tbody tr th {\n",
       "        vertical-align: top;\n",
       "    }\n",
       "\n",
       "    .dataframe thead th {\n",
       "        text-align: right;\n",
       "    }\n",
       "</style>\n",
       "<table border=\"1\" class=\"dataframe\">\n",
       "  <thead>\n",
       "    <tr style=\"text-align: right;\">\n",
       "      <th></th>\n",
       "      <th>Age</th>\n",
       "      <th>Gender</th>\n",
       "      <th>Ethnicity</th>\n",
       "      <th>BMI</th>\n",
       "      <th>BloodSugarLevel</th>\n",
       "      <th>InsulinResistance</th>\n",
       "      <th>GeneticFactor</th>\n",
       "    </tr>\n",
       "  </thead>\n",
       "  <tbody>\n",
       "    <tr>\n",
       "      <th>count</th>\n",
       "      <td>1000.000000</td>\n",
       "      <td>1000.000000</td>\n",
       "      <td>1000.000000</td>\n",
       "      <td>1000.000000</td>\n",
       "      <td>1000.000000</td>\n",
       "      <td>1000.000000</td>\n",
       "      <td>1000.000000</td>\n",
       "    </tr>\n",
       "    <tr>\n",
       "      <th>mean</th>\n",
       "      <td>50.380000</td>\n",
       "      <td>0.477000</td>\n",
       "      <td>1.888000</td>\n",
       "      <td>28.052368</td>\n",
       "      <td>105.053928</td>\n",
       "      <td>0.301111</td>\n",
       "      <td>0.150000</td>\n",
       "    </tr>\n",
       "    <tr>\n",
       "      <th>std</th>\n",
       "      <td>18.378666</td>\n",
       "      <td>0.499721</td>\n",
       "      <td>1.403362</td>\n",
       "      <td>3.743058</td>\n",
       "      <td>14.235055</td>\n",
       "      <td>0.435418</td>\n",
       "      <td>0.338917</td>\n",
       "    </tr>\n",
       "    <tr>\n",
       "      <th>min</th>\n",
       "      <td>18.000000</td>\n",
       "      <td>0.000000</td>\n",
       "      <td>0.000000</td>\n",
       "      <td>15.921951</td>\n",
       "      <td>70.000000</td>\n",
       "      <td>0.000000</td>\n",
       "      <td>0.000000</td>\n",
       "    </tr>\n",
       "    <tr>\n",
       "      <th>25%</th>\n",
       "      <td>35.000000</td>\n",
       "      <td>0.000000</td>\n",
       "      <td>1.000000</td>\n",
       "      <td>25.820978</td>\n",
       "      <td>96.149359</td>\n",
       "      <td>0.000000</td>\n",
       "      <td>0.000000</td>\n",
       "    </tr>\n",
       "    <tr>\n",
       "      <th>50%</th>\n",
       "      <td>50.000000</td>\n",
       "      <td>0.000000</td>\n",
       "      <td>2.000000</td>\n",
       "      <td>28.052368</td>\n",
       "      <td>105.053928</td>\n",
       "      <td>0.000000</td>\n",
       "      <td>0.000000</td>\n",
       "    </tr>\n",
       "    <tr>\n",
       "      <th>75%</th>\n",
       "      <td>66.000000</td>\n",
       "      <td>1.000000</td>\n",
       "      <td>3.000000</td>\n",
       "      <td>30.341792</td>\n",
       "      <td>113.705994</td>\n",
       "      <td>1.000000</td>\n",
       "      <td>0.000000</td>\n",
       "    </tr>\n",
       "    <tr>\n",
       "      <th>max</th>\n",
       "      <td>80.000000</td>\n",
       "      <td>1.000000</td>\n",
       "      <td>4.000000</td>\n",
       "      <td>40.772430</td>\n",
       "      <td>140.000000</td>\n",
       "      <td>1.000000</td>\n",
       "      <td>1.000000</td>\n",
       "    </tr>\n",
       "  </tbody>\n",
       "</table>\n",
       "</div>"
      ],
      "text/plain": [
       "               Age       Gender    Ethnicity          BMI  BloodSugarLevel  \\\n",
       "count  1000.000000  1000.000000  1000.000000  1000.000000      1000.000000   \n",
       "mean     50.380000     0.477000     1.888000    28.052368       105.053928   \n",
       "std      18.378666     0.499721     1.403362     3.743058        14.235055   \n",
       "min      18.000000     0.000000     0.000000    15.921951        70.000000   \n",
       "25%      35.000000     0.000000     1.000000    25.820978        96.149359   \n",
       "50%      50.000000     0.000000     2.000000    28.052368       105.053928   \n",
       "75%      66.000000     1.000000     3.000000    30.341792       113.705994   \n",
       "max      80.000000     1.000000     4.000000    40.772430       140.000000   \n",
       "\n",
       "       InsulinResistance  GeneticFactor  \n",
       "count        1000.000000    1000.000000  \n",
       "mean            0.301111       0.150000  \n",
       "std             0.435418       0.338917  \n",
       "min             0.000000       0.000000  \n",
       "25%             0.000000       0.000000  \n",
       "50%             0.000000       0.000000  \n",
       "75%             1.000000       0.000000  \n",
       "max             1.000000       1.000000  "
      ]
     },
     "execution_count": 614,
     "metadata": {},
     "output_type": "execute_result"
    }
   ],
   "source": [
    "df.describe()"
   ]
  },
  {
   "cell_type": "markdown",
   "metadata": {},
   "source": [
    "**Number of unique values in column**"
   ]
  },
  {
   "cell_type": "code",
   "execution_count": 615,
   "metadata": {},
   "outputs": [
    {
     "name": "stdout",
     "output_type": "stream",
     "text": [
      "Number of distinct types in Age: 63\n",
      "Number of distinct types in Gender: 2\n",
      "Number of distinct types in Ethnicity: 5\n",
      "Number of distinct types in BMI: 901\n",
      "Number of distinct types in BloodSugarLevel: 887\n",
      "Number of distinct types in InsulinResistance: 3\n",
      "Number of distinct types in GeneticFactor: 3\n"
     ]
    }
   ],
   "source": [
    "# Number of unique values in column\n",
    "for column in df.columns:\n",
    "    num_distinct_types = df[column].nunique()\n",
    "    print(f\"Number of distinct types in {column}: {num_distinct_types}\")"
   ]
  },
  {
   "cell_type": "markdown",
   "metadata": {},
   "source": [
    "Check for mean imputed values in the dataset"
   ]
  },
  {
   "cell_type": "code",
   "execution_count": 616,
   "metadata": {},
   "outputs": [
    {
     "name": "stdout",
     "output_type": "stream",
     "text": [
      "OK: No Mean imputed value found in column: Age\n",
      "OK: No Mean imputed value found in column: Gender\n",
      "OK: No Mean imputed value found in column: Ethnicity\n",
      "OK: No Mean imputed value found in column: BMI\n",
      "Attention: Mean imputed value found in column: BloodSugarLevel\n",
      "Attention: Mean imputed value found in column: InsulinResistance\n",
      "Attention: Mean imputed value found in column: GeneticFactor\n"
     ]
    }
   ],
   "source": [
    "df_original = df.copy()\n",
    "for column in df.columns:\n",
    "    if pd.api.types.is_numeric_dtype(df[column]):\n",
    "        mean_value = df[column].mean()        \n",
    "        \n",
    "        # Check for mean-imputed values\n",
    "        imputed_mask = (df[column] == mean_value)\n",
    "        if imputed_mask.any():\n",
    "            print(f\"Attention: Mean imputed value found in column: {column}\")\n",
    "        else:\n",
    "            print(f\"OK: No Mean imputed value found in column: {column}\")\n",
    "        \n",
    "\n",
    "# Calculate the mean of the 'GeneticFactor' column\n",
    "#mean_value = df['GeneticFactor'].mean()\n",
    "\n",
    "# Check if there are values which are already mean imputed\n",
    "#df = df[df['GeneticFactor'] != mean_value]"
   ]
  },
  {
   "cell_type": "markdown",
   "metadata": {},
   "source": [
    "**Data Type Transformation**\n",
    "\n",
    "There is an invalid value coded as \"xx\" in column. We can coerce invalid values to \"NaN\" using the errors keyword as follows:-"
   ]
  },
  {
   "cell_type": "code",
   "execution_count": 617,
   "metadata": {},
   "outputs": [],
   "source": [
    "# Transform to numeric\n",
    "df[\"Age\"] = pd.to_numeric(df[\"Age\"], errors='coerce')\n",
    "#df.loc[:, 'BMI'] = (df['BMI']).astype(int)\n",
    "\n",
    "# Round all values to 2 decimal places\n",
    "df['BMI'] = df['BMI'].round(2)"
   ]
  },
  {
   "cell_type": "markdown",
   "metadata": {},
   "source": [
    "**Box plot**\n",
    "\n",
    "Box plot help us to explore outliers in the data. It help us to identify potentially bad data."
   ]
  },
  {
   "cell_type": "code",
   "execution_count": 618,
   "metadata": {},
   "outputs": [
    {
     "data": {
      "image/png": "[encoded data removed]",
      "text/plain": [
       "<Figure size 1200x600 with 1 Axes>"
      ]
     },
     "metadata": {},
     "output_type": "display_data"
    }
   ],
   "source": [
    "# Identify outliers\n",
    "plt.figure(figsize=(12, 6))\n",
    "sns.boxplot(data=df)\n",
    "plt.title('Box Plot of Columns to Identify Outliers')\n",
    "plt.xlabel('Columns')\n",
    "plt.ylabel('Values')\n",
    "plt.show()"
   ]
  },
  {
   "cell_type": "markdown",
   "metadata": {},
   "source": [
    "**Scatter plot**\n",
    "\n",
    "Scatter plot help us to explore relationship between two numeric variables. It help us to identify potentially bad data."
   ]
  },
  {
   "cell_type": "code",
   "execution_count": 619,
   "metadata": {},
   "outputs": [
    {
     "data": {
      "image/png": "[encoded data removed]",
      "text/plain": [
       "<Figure size 640x480 with 1 Axes>"
      ]
     },
     "metadata": {},
     "output_type": "display_data"
    }
   ],
   "source": [
    "df.plot(kind='scatter',x='BMI', y='BloodSugarLevel', c='DarkBlue')\n",
    "plt.show()"
   ]
  },
  {
   "cell_type": "markdown",
   "metadata": {},
   "source": [
    "**Split column**"
   ]
  },
  {
   "cell_type": "code",
   "execution_count": 620,
   "metadata": {},
   "outputs": [],
   "source": [
    "#df[['age','sex']] = df.age_sex.str.split(\"_\", expand = True)\n",
    "#df.drop(['age_sex'], axis=1, inplace=True)"
   ]
  },
  {
   "cell_type": "markdown",
   "metadata": {},
   "source": [
    "**Reorder the column labels**"
   ]
  },
  {
   "cell_type": "code",
   "execution_count": 621,
   "metadata": {},
   "outputs": [],
   "source": [
    "df = df[['Gender','Age','Ethnicity','BMI','BloodSugarLevel','InsulinResistance','GeneticFactor']]"
   ]
  },
  {
   "cell_type": "markdown",
   "metadata": {},
   "source": [
    "**Dealing with negative numerical values**"
   ]
  },
  {
   "cell_type": "code",
   "execution_count": 622,
   "metadata": {},
   "outputs": [],
   "source": [
    "# Suppress settingwithcopywarning\n",
    "\n",
    "#pd.set_option('mode.chained_assignment', None)\n",
    "#df['weight(kg)'].replace(-60, 60, inplace=True)"
   ]
  },
  {
   "cell_type": "markdown",
   "metadata": {},
   "source": [
    "**Dealing with outliers**\n",
    "\n",
    "When dealing with outliers in data and using imputation techniques like KNN imputation, it's important to handle the imputation process correctly to avoid data leakage and ensure the validity of your model evaluation. First we train test split before any imputation"
   ]
  },
  {
   "cell_type": "code",
   "execution_count": 623,
   "metadata": {},
   "outputs": [],
   "source": [
    "from sklearn.model_selection import train_test_split\n",
    "\n",
    "X = df.drop('GeneticFactor', axis=1)\n",
    "y = df.GeneticFactor\n",
    "training_features, testing_features, training_target, testing_target = train_test_split(X, y, train_size=0.75, test_size=0.25, random_state=42)"
   ]
  },
  {
   "cell_type": "code",
   "execution_count": 624,
   "metadata": {},
   "outputs": [],
   "source": [
    "# Impute missing data with kNN (k-nearest neighbours)\n",
    "\n",
    "from sklearn.neighbors import KNeighborsClassifier\n",
    "# Replace non-0/1 values with NaN for the InsulinResistance column\n",
    "training_features['InsulinResistance'] = training_features['InsulinResistance'].apply(lambda x: x if x in [0, 1] else np.nan)\n",
    "\n",
    "# Separate the rows with NaN values in 'InsulinResistance'\n",
    "df_missing = training_features[training_features['InsulinResistance'].isna()]\n",
    "df_complete = training_features.dropna(subset=['InsulinResistance'])\n",
    "\n",
    "features = df_complete.drop(columns='InsulinResistance')\n",
    "target = df_complete['InsulinResistance']\n",
    "\n",
    "# Train the KNN classifier\n",
    "knn = KNeighborsClassifier(n_neighbors=2)\n",
    "knn.fit(features, target)\n",
    "\n",
    "# Predict the missing values\n",
    "df_missing['InsulinResistance'] = knn.predict(df_missing.drop(columns='InsulinResistance'))\n",
    "\n",
    "# Combine the datasets\n",
    "df_combined = pd.concat([df_complete, df_missing]).sort_index()\n",
    "df = df_combined"
   ]
  },
  {
   "cell_type": "markdown",
   "metadata": {},
   "source": [
    "**Mean Imputation of missing data**"
   ]
  },
  {
   "cell_type": "code",
   "execution_count": 625,
   "metadata": {},
   "outputs": [],
   "source": [
    "df['InsulinResistance'] = df['InsulinResistance'].apply(lambda x: x if x in [0, 1] else np.nan)\n",
    "\n",
    "# Calculate mean for each column\n",
    "mean_values = df.mean()\n",
    "\n",
    "# Fill missing values with mean\n",
    "df = df.fillna(mean_values)"
   ]
  },
  {
   "cell_type": "markdown",
   "metadata": {},
   "source": [
    "## Summary\n",
    "\n",
    "- Invalid Values\n",
    "- Unbalanced dataset\n",
    "- Negative Values\n",
    "- \n",
    "- Data Type Transformation\n",
    "- Outliers"
   ]
  },
  {
   "cell_type": "markdown",
   "metadata": {},
   "source": [
    "# Evaluation of biomarkers\n",
    "\n",
    "Discuss its significance and usability for diagnosis. \n",
    "Highlight the relevance of each biomarker in the context of the disease or condition being diagnosed."
   ]
  },
  {
   "cell_type": "code",
   "execution_count": null,
   "metadata": {},
   "outputs": [],
   "source": [
    "# Generate the correlation matrix\n",
    "correlation_matrix = df.corr()\n",
    "\n",
    "# Plot the correlation matrix\n",
    "plt.figure(figsize=(12, 8))\n",
    "sns.heatmap(correlation_matrix, annot=True, cmap='coolwarm', linewidths=0.5)\n",
    "plt.title('Correlation Matrix - Diabetest Study')\n",
    "plt.show()"
   ]
  },
  {
   "cell_type": "markdown",
   "metadata": {},
   "source": [
    "# Identify and Address Problems/Biases\n",
    "\n",
    "- Analyze the data for potential problems or biases. This could include any of the biases we have discusses in class.\n",
    "- Discuss the expected effects of corrections on the dataset and subsequent analyses. Explain how these corrections will improve the reliability and validity of your results.\n",
    "\n",
    "**Most common Biases**\n",
    "- Stereotyping\n",
    "- The bandwagon effect\n",
    "- Priming\n",
    "- Selective preception\n",
    "- Confirmation bias\n",
    "\n",
    "\n",
    "## Preprocessing: Handle missing data, normalize values, encode categorical data"
   ]
  },
  {
   "cell_type": "markdown",
   "metadata": {},
   "source": []
  },
  {
   "cell_type": "markdown",
   "metadata": {},
   "source": [
    "## Normalize values"
   ]
  },
  {
   "cell_type": "code",
   "execution_count": null,
   "metadata": {},
   "outputs": [],
   "source": []
  },
  {
   "cell_type": "markdown",
   "metadata": {},
   "source": [
    "## Encode Categorical data"
   ]
  },
  {
   "cell_type": "code",
   "execution_count": null,
   "metadata": {},
   "outputs": [],
   "source": []
  },
  {
   "cell_type": "markdown",
   "metadata": {},
   "source": [
    "# Parameter Importance Analysis\n",
    "\n",
    "- Perform an analysis to determine the importance of different biomarkers.\n",
    "- Identify which biomarkers are the most critical for accurate diagnosis and discuss why they are significant."
   ]
  },
  {
   "cell_type": "code",
   "execution_count": 626,
   "metadata": {},
   "outputs": [
    {
     "data": {
      "image/png": "[encoded data removed]",
      "text/plain": [
       "<Figure size 1200x800 with 2 Axes>"
      ]
     },
     "metadata": {},
     "output_type": "display_data"
    }
   ],
   "source": []
  },
  {
   "cell_type": "code",
   "execution_count": null,
   "metadata": {},
   "outputs": [],
   "source": []
  },
  {
   "cell_type": "markdown",
   "metadata": {},
   "source": [
    "# Model Creation for Prognosis\n",
    "\n",
    "- Using the corrected data and insights from the parameter importance analysis, develop a predictive model to provide a reliable diagnosis.\n",
    "- Explain the choice of model and justify why it is suitable for this task.\n",
    "- Validate the model using appropriate techniques such as cross-validation, and evaluate its performance using relevant metrics (e.g., accuracy, precision, recall, F1-score)."
   ]
  },
  {
   "cell_type": "markdown",
   "metadata": {},
   "source": []
  }
 ],
 "metadata": {
  "kernelspec": {
   "display_name": ".venv",
   "language": "python",
   "name": "python3"
  },
  "language_info": {
   "codemirror_mode": {
    "name": "ipython",
    "version": 3
   },
   "file_extension": ".py",
   "mimetype": "text/x-python",
   "name": "python",
   "nbconvert_exporter": "python",
   "pygments_lexer": "ipython3",
   "version": "3.12.3"
  }
 },
 "nbformat": 4,
 "nbformat_minor": 2
}
