{
 "cells": [
  {
   "cell_type": "code",
   "execution_count": 56,
   "metadata": {},
   "outputs": [],
   "source": [
    "import pandas as pd\n",
    "import seaborn as sns\n",
    "import numpy as np\n",
    "import matplotlib.pyplot as plt\n",
    "from sklearn.model_selection import train_test_split\n",
    "from tpot import TPOTClassifier"
   ]
  },
  {
   "cell_type": "code",
   "execution_count": 57,
   "metadata": {},
   "outputs": [],
   "source": [
    "# Load the Excel file\n",
    "file_path = '../data/diabetes_study_final_data.csv'\n",
    "df = pd.read_csv(file_path, delimiter=',')"
   ]
  },
  {
   "cell_type": "code",
   "execution_count": 58,
   "metadata": {},
   "outputs": [
    {
     "data": {
      "text/html": [
       "<div>\n",
       "<style scoped>\n",
       "    .dataframe tbody tr th:only-of-type {\n",
       "        vertical-align: middle;\n",
       "    }\n",
       "\n",
       "    .dataframe tbody tr th {\n",
       "        vertical-align: top;\n",
       "    }\n",
       "\n",
       "    .dataframe thead th {\n",
       "        text-align: right;\n",
       "    }\n",
       "</style>\n",
       "<table border=\"1\" class=\"dataframe\">\n",
       "  <thead>\n",
       "    <tr style=\"text-align: right;\">\n",
       "      <th></th>\n",
       "      <th>Age</th>\n",
       "      <th>Gender</th>\n",
       "      <th>Ethnicity</th>\n",
       "      <th>BMI</th>\n",
       "      <th>BloodSugarLevel</th>\n",
       "      <th>InsulinResistance</th>\n",
       "      <th>GeneticFactor</th>\n",
       "    </tr>\n",
       "  </thead>\n",
       "  <tbody>\n",
       "    <tr>\n",
       "      <th>0</th>\n",
       "      <td>56</td>\n",
       "      <td>0</td>\n",
       "      <td>1</td>\n",
       "      <td>18.303039</td>\n",
       "      <td>91.118631</td>\n",
       "      <td>0.000000</td>\n",
       "      <td>0.0</td>\n",
       "    </tr>\n",
       "    <tr>\n",
       "      <th>1</th>\n",
       "      <td>69</td>\n",
       "      <td>0</td>\n",
       "      <td>4</td>\n",
       "      <td>28.052368</td>\n",
       "      <td>108.830756</td>\n",
       "      <td>0.301111</td>\n",
       "      <td>0.0</td>\n",
       "    </tr>\n",
       "    <tr>\n",
       "      <th>2</th>\n",
       "      <td>46</td>\n",
       "      <td>1</td>\n",
       "      <td>4</td>\n",
       "      <td>30.947376</td>\n",
       "      <td>91.569805</td>\n",
       "      <td>0.000000</td>\n",
       "      <td>0.0</td>\n",
       "    </tr>\n",
       "    <tr>\n",
       "      <th>3</th>\n",
       "      <td>32</td>\n",
       "      <td>1</td>\n",
       "      <td>0</td>\n",
       "      <td>26.874690</td>\n",
       "      <td>98.878487</td>\n",
       "      <td>0.301111</td>\n",
       "      <td>0.0</td>\n",
       "    </tr>\n",
       "    <tr>\n",
       "      <th>4</th>\n",
       "      <td>60</td>\n",
       "      <td>1</td>\n",
       "      <td>3</td>\n",
       "      <td>28.052368</td>\n",
       "      <td>90.062769</td>\n",
       "      <td>0.000000</td>\n",
       "      <td>0.0</td>\n",
       "    </tr>\n",
       "  </tbody>\n",
       "</table>\n",
       "</div>"
      ],
      "text/plain": [
       "   Age  Gender  Ethnicity        BMI  BloodSugarLevel  InsulinResistance  \\\n",
       "0   56       0          1  18.303039        91.118631           0.000000   \n",
       "1   69       0          4  28.052368       108.830756           0.301111   \n",
       "2   46       1          4  30.947376        91.569805           0.000000   \n",
       "3   32       1          0  26.874690        98.878487           0.301111   \n",
       "4   60       1          3  28.052368        90.062769           0.000000   \n",
       "\n",
       "   GeneticFactor  \n",
       "0            0.0  \n",
       "1            0.0  \n",
       "2            0.0  \n",
       "3            0.0  \n",
       "4            0.0  "
      ]
     },
     "execution_count": 58,
     "metadata": {},
     "output_type": "execute_result"
    }
   ],
   "source": [
    "# Display the first few rows of the dataframe\n",
    "df.head()"
   ]
  },
  {
   "cell_type": "code",
   "execution_count": 59,
   "metadata": {},
   "outputs": [
    {
     "data": {
      "text/html": [
       "<div>\n",
       "<style scoped>\n",
       "    .dataframe tbody tr th:only-of-type {\n",
       "        vertical-align: middle;\n",
       "    }\n",
       "\n",
       "    .dataframe tbody tr th {\n",
       "        vertical-align: top;\n",
       "    }\n",
       "\n",
       "    .dataframe thead th {\n",
       "        text-align: right;\n",
       "    }\n",
       "</style>\n",
       "<table border=\"1\" class=\"dataframe\">\n",
       "  <thead>\n",
       "    <tr style=\"text-align: right;\">\n",
       "      <th></th>\n",
       "      <th>Age</th>\n",
       "      <th>Gender</th>\n",
       "      <th>Ethnicity</th>\n",
       "      <th>BMI</th>\n",
       "      <th>BloodSugarLevel</th>\n",
       "      <th>InsulinResistance</th>\n",
       "      <th>GeneticFactor</th>\n",
       "    </tr>\n",
       "  </thead>\n",
       "  <tbody>\n",
       "    <tr>\n",
       "      <th>count</th>\n",
       "      <td>1000.000000</td>\n",
       "      <td>1000.000000</td>\n",
       "      <td>1000.000000</td>\n",
       "      <td>1000.000000</td>\n",
       "      <td>1000.000000</td>\n",
       "      <td>1000.000000</td>\n",
       "      <td>1000.000000</td>\n",
       "    </tr>\n",
       "    <tr>\n",
       "      <th>mean</th>\n",
       "      <td>50.380000</td>\n",
       "      <td>0.477000</td>\n",
       "      <td>1.888000</td>\n",
       "      <td>28.052368</td>\n",
       "      <td>105.053928</td>\n",
       "      <td>0.301111</td>\n",
       "      <td>0.150000</td>\n",
       "    </tr>\n",
       "    <tr>\n",
       "      <th>std</th>\n",
       "      <td>18.378666</td>\n",
       "      <td>0.499721</td>\n",
       "      <td>1.403362</td>\n",
       "      <td>3.743058</td>\n",
       "      <td>14.235055</td>\n",
       "      <td>0.435418</td>\n",
       "      <td>0.338917</td>\n",
       "    </tr>\n",
       "    <tr>\n",
       "      <th>min</th>\n",
       "      <td>18.000000</td>\n",
       "      <td>0.000000</td>\n",
       "      <td>0.000000</td>\n",
       "      <td>15.921951</td>\n",
       "      <td>70.000000</td>\n",
       "      <td>0.000000</td>\n",
       "      <td>0.000000</td>\n",
       "    </tr>\n",
       "    <tr>\n",
       "      <th>25%</th>\n",
       "      <td>35.000000</td>\n",
       "      <td>0.000000</td>\n",
       "      <td>1.000000</td>\n",
       "      <td>25.820978</td>\n",
       "      <td>96.149359</td>\n",
       "      <td>0.000000</td>\n",
       "      <td>0.000000</td>\n",
       "    </tr>\n",
       "    <tr>\n",
       "      <th>50%</th>\n",
       "      <td>50.000000</td>\n",
       "      <td>0.000000</td>\n",
       "      <td>2.000000</td>\n",
       "      <td>28.052368</td>\n",
       "      <td>105.053928</td>\n",
       "      <td>0.000000</td>\n",
       "      <td>0.000000</td>\n",
       "    </tr>\n",
       "    <tr>\n",
       "      <th>75%</th>\n",
       "      <td>66.000000</td>\n",
       "      <td>1.000000</td>\n",
       "      <td>3.000000</td>\n",
       "      <td>30.341792</td>\n",
       "      <td>113.705994</td>\n",
       "      <td>1.000000</td>\n",
       "      <td>0.000000</td>\n",
       "    </tr>\n",
       "    <tr>\n",
       "      <th>max</th>\n",
       "      <td>80.000000</td>\n",
       "      <td>1.000000</td>\n",
       "      <td>4.000000</td>\n",
       "      <td>40.772430</td>\n",
       "      <td>140.000000</td>\n",
       "      <td>1.000000</td>\n",
       "      <td>1.000000</td>\n",
       "    </tr>\n",
       "  </tbody>\n",
       "</table>\n",
       "</div>"
      ],
      "text/plain": [
       "               Age       Gender    Ethnicity          BMI  BloodSugarLevel  \\\n",
       "count  1000.000000  1000.000000  1000.000000  1000.000000      1000.000000   \n",
       "mean     50.380000     0.477000     1.888000    28.052368       105.053928   \n",
       "std      18.378666     0.499721     1.403362     3.743058        14.235055   \n",
       "min      18.000000     0.000000     0.000000    15.921951        70.000000   \n",
       "25%      35.000000     0.000000     1.000000    25.820978        96.149359   \n",
       "50%      50.000000     0.000000     2.000000    28.052368       105.053928   \n",
       "75%      66.000000     1.000000     3.000000    30.341792       113.705994   \n",
       "max      80.000000     1.000000     4.000000    40.772430       140.000000   \n",
       "\n",
       "       InsulinResistance  GeneticFactor  \n",
       "count        1000.000000    1000.000000  \n",
       "mean            0.301111       0.150000  \n",
       "std             0.435418       0.338917  \n",
       "min             0.000000       0.000000  \n",
       "25%             0.000000       0.000000  \n",
       "50%             0.000000       0.000000  \n",
       "75%             1.000000       0.000000  \n",
       "max             1.000000       1.000000  "
      ]
     },
     "execution_count": 59,
     "metadata": {},
     "output_type": "execute_result"
    }
   ],
   "source": [
    "df.describe()"
   ]
  },
  {
   "cell_type": "code",
   "execution_count": 60,
   "metadata": {},
   "outputs": [
    {
     "data": {
      "text/plain": [
       "Age                  False\n",
       "Gender               False\n",
       "Ethnicity            False\n",
       "BMI                  False\n",
       "BloodSugarLevel      False\n",
       "InsulinResistance    False\n",
       "GeneticFactor        False\n",
       "dtype: bool"
      ]
     },
     "execution_count": 60,
     "metadata": {},
     "output_type": "execute_result"
    }
   ],
   "source": [
    "# Check for missing values\n",
    "pd.isnull(df).any()"
   ]
  },
  {
   "cell_type": "code",
   "execution_count": 61,
   "metadata": {},
   "outputs": [
    {
     "name": "stdout",
     "output_type": "stream",
     "text": [
      "Age                    int64\n",
      "Gender                 int64\n",
      "Ethnicity              int64\n",
      "BMI                  float64\n",
      "BloodSugarLevel      float64\n",
      "InsulinResistance    float64\n",
      "GeneticFactor        float64\n",
      "dtype: object\n"
     ]
    }
   ],
   "source": [
    "# Shows the data types of each column.\n",
    "print(df.dtypes)"
   ]
  },
  {
   "cell_type": "code",
   "execution_count": 62,
   "metadata": {},
   "outputs": [],
   "source": []
  },
  {
   "cell_type": "code",
   "execution_count": 63,
   "metadata": {},
   "outputs": [
    {
     "name": "stdout",
     "output_type": "stream",
     "text": [
      "Number of distinct types in Age: 63\n",
      "Number of distinct types in Gender: 2\n",
      "Number of distinct types in Ethnicity: 5\n",
      "Number of distinct types in BMI: 901\n",
      "Number of distinct types in BloodSugarLevel: 887\n",
      "Number of distinct types in InsulinResistance: 3\n",
      "Number of distinct types in GeneticFactor: 3\n"
     ]
    }
   ],
   "source": [
    "# Number of unique values in column\n",
    "for column in df.columns:\n",
    "    num_distinct_types = df[column].nunique()\n",
    "    print(f\"Number of distinct types in {column}: {num_distinct_types}\")"
   ]
  },
  {
   "cell_type": "code",
   "execution_count": 64,
   "metadata": {},
   "outputs": [
    {
     "name": "stdout",
     "output_type": "stream",
     "text": [
      "Does the value 0.3011111111111111 exist in 'InsulinResistance' column? False\n"
     ]
    },
    {
     "name": "stderr",
     "output_type": "stream",
     "text": [
      "/tmp/ipykernel_92784/3186694520.py:20: SettingWithCopyWarning: \n",
      "A value is trying to be set on a copy of a slice from a DataFrame.\n",
      "Try using .loc[row_indexer,col_indexer] = value instead\n",
      "\n",
      "See the caveats in the documentation: https://pandas.pydata.org/pandas-docs/stable/user_guide/indexing.html#returning-a-view-versus-a-copy\n",
      "  df_missing['InsulinResistance'] = knn.predict(df_missing.drop(columns='InsulinResistance'))\n"
     ]
    }
   ],
   "source": [
    "# Impute Insulin Resistance with kNN\n",
    "\n",
    "from sklearn.neighbors import KNeighborsClassifier\n",
    "# Replace non-0/1 values with NaN for the InsulinResistance column\n",
    "df['InsulinResistance'] = df['InsulinResistance'].apply(lambda x: x if x in [0, 1] else np.nan)\n",
    "\n",
    "# Separate the rows with NaN values in 'InsulinResistance'\n",
    "df_missing = df[df['InsulinResistance'].isna()]\n",
    "df_complete = df.dropna(subset=['InsulinResistance'])\n",
    "\n",
    "# Features and target for KNN\n",
    "X = df_complete.drop(columns='InsulinResistance')\n",
    "y = df_complete['InsulinResistance']\n",
    "\n",
    "# Train the KNN classifier\n",
    "knn = KNeighborsClassifier(n_neighbors=2)\n",
    "knn.fit(X, y)\n",
    "\n",
    "# Predict the missing values\n",
    "df_missing['InsulinResistance'] = knn.predict(df_missing.drop(columns='InsulinResistance'))\n",
    "\n",
    "# Combine the datasets\n",
    "df_combined = pd.concat([df_complete, df_missing]).sort_index()\n",
    "\n",
    "# Check for a certain value in the 'InsulinResistance' column\n",
    "value_to_check = 0.3011111111111111\n",
    "exists = value_to_check in df_combined['InsulinResistance'].values\n",
    "\n",
    "print(f\"Does the value {value_to_check} exist in 'InsulinResistance' column? {exists}\")\n",
    "df = df_combined"
   ]
  },
  {
   "cell_type": "code",
   "execution_count": 65,
   "metadata": {},
   "outputs": [
    {
     "name": "stdout",
     "output_type": "stream",
     "text": [
      "Number of distinct types in Age: 63\n",
      "Number of distinct types in Gender: 2\n",
      "Number of distinct types in Ethnicity: 5\n",
      "Number of distinct types in BMI: 901\n",
      "Number of distinct types in BloodSugarLevel: 887\n",
      "Number of distinct types in InsulinResistance: 2\n",
      "Number of distinct types in GeneticFactor: 3\n"
     ]
    }
   ],
   "source": [
    "# Number of unique values in column\n",
    "for column in df.columns:\n",
    "    num_distinct_types = df[column].nunique()\n",
    "    print(f\"Number of distinct types in {column}: {num_distinct_types}\")"
   ]
  },
  {
   "cell_type": "code",
   "execution_count": 66,
   "metadata": {},
   "outputs": [],
   "source": [
    "# Calculate the mean of the 'InsulinResistance' column\n",
    "mean_value = df['GeneticFactor'].mean()\n",
    "\n",
    "# Drop rows where 'InsulinResistance' equals the mean value\n",
    "df = df[df['GeneticFactor'] != mean_value]"
   ]
  },
  {
   "cell_type": "code",
   "execution_count": 67,
   "metadata": {},
   "outputs": [
    {
     "name": "stdout",
     "output_type": "stream",
     "text": [
      "Number of distinct types in Age: 63\n",
      "Number of distinct types in Gender: 2\n",
      "Number of distinct types in Ethnicity: 5\n",
      "Number of distinct types in BMI: 816\n",
      "Number of distinct types in BloodSugarLevel: 797\n",
      "Number of distinct types in InsulinResistance: 2\n",
      "Number of distinct types in GeneticFactor: 2\n"
     ]
    }
   ],
   "source": [
    "# Number of unique values in column\n",
    "for column in df.columns:\n",
    "    num_distinct_types = df[column].nunique()\n",
    "    print(f\"Number of distinct types in {column}: {num_distinct_types}\")"
   ]
  },
  {
   "cell_type": "code",
   "execution_count": 69,
   "metadata": {},
   "outputs": [
    {
     "data": {
      "image/png": "[encoded data removed]",
      "text/plain": [
       "<Figure size 1200x800 with 2 Axes>"
      ]
     },
     "metadata": {},
     "output_type": "display_data"
    }
   ],
   "source": [
    "# Generate the correlation matrix\n",
    "correlation_matrix = df.corr()\n",
    "\n",
    "# Plot the correlation matrix\n",
    "plt.figure(figsize=(12, 8))\n",
    "sns.heatmap(correlation_matrix, annot=True, cmap='coolwarm', linewidths=0.5)\n",
    "plt.title('Correlation Matrix - Diabetest Study')\n",
    "plt.show()"
   ]
  },
  {
   "cell_type": "code",
   "execution_count": 73,
   "metadata": {},
   "outputs": [],
   "source": [
    "df.loc[:, 'BMI'] = (df['BMI'] * 100).astype(int)\n",
    "df.loc[:, 'BloodSugarLevel'] = (df['BloodSugarLevel'] * 100).astype(int)"
   ]
  },
  {
   "cell_type": "code",
   "execution_count": 74,
   "metadata": {},
   "outputs": [],
   "source": [
    "\n",
    "\n",
    "\n",
    "X = df.drop('GeneticFactor', axis=1)\n",
    "y = df.GeneticFactor\n",
    "training_features, testing_features, training_target, testing_target = train_test_split(X, y, train_size=0.75, test_size=0.25, random_state=42)"
   ]
  },
  {
   "cell_type": "code",
   "execution_count": 75,
   "metadata": {},
   "outputs": [
    {
     "name": "stdout",
     "output_type": "stream",
     "text": [
      "                                                                               \n",
      "Generation 1 - Current best internal CV score: 0.8459259259259259\n",
      "                                                                                 \n",
      "Generation 2 - Current best internal CV score: 0.8459259259259259\n",
      "Optimization Progress:   7%|▋         | 168/2550 [01:35<10:03,  3.94pipeline/s]"
     ]
    }
   ],
   "source": [
    "# TPOT\n",
    "\n",
    "\n",
    "\n",
    "# Initialize TPOTClassifier\n",
    "tpot = TPOTClassifier(generations=50, population_size=50, verbosity=2, random_state=42)\n",
    "tpot.fit(training_features, training_target)\n",
    "print(tpot.score(testing_features, testing_target))\n",
    "tpot.export('tpot_diabetes_pipeline_classifier.py')"
   ]
  },
  {
   "cell_type": "code",
   "execution_count": null,
   "metadata": {},
   "outputs": [],
   "source": []
  }
 ],
 "metadata": {
  "kernelspec": {
   "display_name": ".venv",
   "language": "python",
   "name": "python3"
  },
  "language_info": {
   "codemirror_mode": {
    "name": "ipython",
    "version": 3
   },
   "file_extension": ".py",
   "mimetype": "text/x-python",
   "name": "python",
   "nbconvert_exporter": "python",
   "pygments_lexer": "ipython3",
   "version": "3.12.3"
  }
 },
 "nbformat": 4,
 "nbformat_minor": 2
}
