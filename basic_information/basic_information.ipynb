{
 "cells": [
  {
   "cell_type": "code",
   "execution_count": 1,
   "metadata": {},
   "outputs": [],
   "source": [
    "# Import necessary libraries\n",
    "import pandas as pd"
   ]
  },
  {
   "cell_type": "code",
   "execution_count": 2,
   "metadata": {},
   "outputs": [],
   "source": [
    "file_path = '../data/patient_no_show_dataset_result.csv'\n",
    "df = pd.read_csv(file_path)"
   ]
  },
  {
   "cell_type": "code",
   "execution_count": 3,
   "metadata": {},
   "outputs": [
    {
     "name": "stdout",
     "output_type": "stream",
     "text": [
      "   Patient ID  Age      gender    Ethnicity Socioeconomic Status  \\\n",
      "0           1   56      Female  Ethnicity C                  Low   \n",
      "1           2   69        Male  Ethnicity C                  Low   \n",
      "2           3   46  Non-Binary  Ethnicity D               Medium   \n",
      "3           4   32      Female  Ethnicity A                  Low   \n",
      "4           5   60        Male  Ethnicity A                  Low   \n",
      "\n",
      "   Distance to Facility  Previous No-shows Appointment No-show prediction  \n",
      "0                  3.13                  1                  No        Yes  \n",
      "1                 10.81                  2                 Yes         No  \n",
      "2                 15.94                  0                 Yes         No  \n",
      "3                 18.91                  0                  No        Yes  \n",
      "4                 15.19                  3                  No         No  \n"
     ]
    }
   ],
   "source": [
    "print(df.head())"
   ]
  },
  {
   "cell_type": "code",
   "execution_count": 4,
   "metadata": {},
   "outputs": [
    {
     "name": "stdout",
     "output_type": "stream",
     "text": [
      "<class 'pandas.core.frame.DataFrame'>\n",
      "RangeIndex: 1000 entries, 0 to 999\n",
      "Data columns (total 9 columns):\n",
      " #   Column                Non-Null Count  Dtype  \n",
      "---  ------                --------------  -----  \n",
      " 0   Patient ID            1000 non-null   int64  \n",
      " 1   Age                   1000 non-null   int64  \n",
      " 2   gender                1000 non-null   object \n",
      " 3   Ethnicity             1000 non-null   object \n",
      " 4   Socioeconomic Status  1000 non-null   object \n",
      " 5   Distance to Facility  1000 non-null   float64\n",
      " 6   Previous No-shows     1000 non-null   int64  \n",
      " 7   Appointment No-show   1000 non-null   object \n",
      " 8   prediction            1000 non-null   object \n",
      "dtypes: float64(1), int64(3), object(5)\n",
      "memory usage: 70.4+ KB\n",
      "None\n"
     ]
    }
   ],
   "source": [
    "# Provides a summary of the DataFrame, including the number of non-null entries and data types of columns.\n",
    "print(df.info())"
   ]
  },
  {
   "cell_type": "code",
   "execution_count": 5,
   "metadata": {},
   "outputs": [
    {
     "name": "stdout",
     "output_type": "stream",
     "text": [
      "        Patient ID          Age  Distance to Facility  Previous No-shows\n",
      "count  1000.000000  1000.000000           1000.000000        1000.000000\n",
      "mean    500.500000    50.380000             10.575860           0.975000\n",
      "std     288.819436    18.378666              5.451377           1.012621\n",
      "min       1.000000    18.000000              1.030000           0.000000\n",
      "25%     250.750000    35.000000              5.835000           0.000000\n",
      "50%     500.500000    50.000000             10.730000           1.000000\n",
      "75%     750.250000    66.000000             15.375000           2.000000\n",
      "max    1000.000000    80.000000             19.950000           5.000000\n"
     ]
    }
   ],
   "source": [
    "# Generates descriptive statistics for numerical columns.\n",
    "print(df.describe())"
   ]
  },
  {
   "cell_type": "code",
   "execution_count": 6,
   "metadata": {},
   "outputs": [
    {
     "name": "stdout",
     "output_type": "stream",
     "text": [
      "(1000, 9)\n"
     ]
    }
   ],
   "source": [
    "# Returns the dimensions of the DataFrame (rows, columns).\n",
    "print(df.shape)"
   ]
  },
  {
   "cell_type": "code",
   "execution_count": 7,
   "metadata": {},
   "outputs": [
    {
     "name": "stdout",
     "output_type": "stream",
     "text": [
      "Index(['Patient ID', 'Age', 'gender', 'Ethnicity', 'Socioeconomic Status',\n",
      "       'Distance to Facility', 'Previous No-shows', 'Appointment No-show',\n",
      "       'prediction'],\n",
      "      dtype='object')\n"
     ]
    }
   ],
   "source": [
    "#  Lists the column names.\n",
    "print(df.columns)"
   ]
  },
  {
   "cell_type": "code",
   "execution_count": 8,
   "metadata": {},
   "outputs": [
    {
     "name": "stdout",
     "output_type": "stream",
     "text": [
      "Patient ID                int64\n",
      "Age                       int64\n",
      "gender                   object\n",
      "Ethnicity                object\n",
      "Socioeconomic Status     object\n",
      "Distance to Facility    float64\n",
      "Previous No-shows         int64\n",
      "Appointment No-show      object\n",
      "prediction               object\n",
      "dtype: object\n"
     ]
    }
   ],
   "source": [
    "# Shows the data types of each column.\n",
    "print(df.dtypes)"
   ]
  },
  {
   "cell_type": "code",
   "execution_count": 9,
   "metadata": {},
   "outputs": [
    {
     "name": "stdout",
     "output_type": "stream",
     "text": [
      "gender\n",
      "Female        454\n",
      "Male          450\n",
      "Non-Binary     96\n",
      "Name: count, dtype: int64\n"
     ]
    }
   ],
   "source": [
    "# check the distribution of categorical data:\n",
    "print(df['gender'].value_counts())"
   ]
  },
  {
   "cell_type": "code",
   "execution_count": 10,
   "metadata": {},
   "outputs": [
    {
     "name": "stdout",
     "output_type": "stream",
     "text": [
      "Number of distinct types in Patient ID: 1000\n",
      "Number of distinct types in Age: 63\n",
      "Number of distinct types in gender: 3\n",
      "Number of distinct types in Ethnicity: 4\n",
      "Number of distinct types in Socioeconomic Status: 3\n",
      "Number of distinct types in Distance to Facility: 765\n",
      "Number of distinct types in Previous No-shows: 6\n",
      "Number of distinct types in Appointment No-show: 2\n",
      "Number of distinct types in prediction: 2\n"
     ]
    }
   ],
   "source": [
    "# Number of unique values in column\n",
    "for column in df.columns:\n",
    "    num_distinct_types = df[column].nunique()\n",
    "    print(f\"Number of distinct types in {column}: {num_distinct_types}\")"
   ]
  },
  {
   "cell_type": "code",
   "execution_count": 11,
   "metadata": {},
   "outputs": [
    {
     "name": "stdout",
     "output_type": "stream",
     "text": [
      "Patient ID\n",
      "1000    1\n",
      "1       1\n",
      "2       1\n",
      "3       1\n",
      "4       1\n",
      "       ..\n",
      "12      1\n",
      "13      1\n",
      "14      1\n",
      "15      1\n",
      "16      1\n",
      "Name: count, Length: 1000, dtype: int64\n",
      "Age\n",
      "79    29\n",
      "75    27\n",
      "77    25\n",
      "52    25\n",
      "45    24\n",
      "      ..\n",
      "55     9\n",
      "27     9\n",
      "51     8\n",
      "73     8\n",
      "60     7\n",
      "Name: count, Length: 63, dtype: int64\n",
      "gender\n",
      "Female        454\n",
      "Male          450\n",
      "Non-Binary     96\n",
      "Name: count, dtype: int64\n",
      "Ethnicity\n",
      "Ethnicity A    391\n",
      "Ethnicity B    315\n",
      "Ethnicity C    201\n",
      "Ethnicity D     93\n",
      "Name: count, dtype: int64\n",
      "Socioeconomic Status\n",
      "High      345\n",
      "Low       328\n",
      "Medium    327\n",
      "Name: count, dtype: int64\n",
      "Distance to Facility\n",
      "8.88     4\n",
      "18.91    4\n",
      "1.86     4\n",
      "10.75    4\n",
      "18.86    3\n",
      "        ..\n",
      "5.17     1\n",
      "1.39     1\n",
      "7.72     1\n",
      "6.75     1\n",
      "4.19     1\n",
      "Name: count, Length: 765, dtype: int64\n",
      "Previous No-shows\n",
      "0    392\n",
      "1    348\n",
      "2    176\n",
      "3     64\n",
      "4     17\n",
      "5      3\n",
      "Name: count, dtype: int64\n",
      "Appointment No-show\n",
      "Yes    587\n",
      "No     413\n",
      "Name: count, dtype: int64\n",
      "prediction\n",
      "No     546\n",
      "Yes    454\n",
      "Name: count, dtype: int64\n"
     ]
    }
   ],
   "source": [
    "# list the count of distinc values\n",
    "for column in df.columns:    \n",
    "    print(df[column].value_counts())"
   ]
  },
  {
   "cell_type": "code",
   "execution_count": 12,
   "metadata": {},
   "outputs": [
    {
     "data": {
      "text/plain": [
       "Patient ID              False\n",
       "Age                     False\n",
       "gender                  False\n",
       "Ethnicity               False\n",
       "Socioeconomic Status    False\n",
       "Distance to Facility    False\n",
       "Previous No-shows       False\n",
       "Appointment No-show     False\n",
       "prediction              False\n",
       "dtype: bool"
      ]
     },
     "execution_count": 12,
     "metadata": {},
     "output_type": "execute_result"
    }
   ],
   "source": [
    "# Check for missing values\n",
    "pd.isnull(df).any()"
   ]
  }
 ],
 "metadata": {
  "kernelspec": {
   "display_name": ".venv",
   "language": "python",
   "name": "python3"
  },
  "language_info": {
   "codemirror_mode": {
    "name": "ipython",
    "version": 3
   },
   "file_extension": ".py",
   "mimetype": "text/x-python",
   "name": "python",
   "nbconvert_exporter": "python",
   "pygments_lexer": "ipython3",
   "version": "3.12.3"
  }
 },
 "nbformat": 4,
 "nbformat_minor": 2
}
